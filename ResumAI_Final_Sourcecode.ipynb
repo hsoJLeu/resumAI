{
  "nbformat": 4,
  "nbformat_minor": 0,
  "metadata": {
    "colab": {
      "name": "ResumAI_Final_Sourcecode.ipynb",
      "version": "0.3.2",
      "provenance": [],
      "collapsed_sections": [],
      "include_colab_link": true
    },
    "kernelspec": {
      "name": "python3",
      "display_name": "Python 3"
    },
    "accelerator": "GPU"
  },
  "cells": [
    {
      "cell_type": "markdown",
      "metadata": {
        "id": "view-in-github",
        "colab_type": "text"
      },
      "source": [
        "<a href=\"https://colab.research.google.com/github/hsoJLeu/resumAI/blob/master/ResumAI_Final_Sourcecode.ipynb\" target=\"_parent\"><img src=\"https://colab.research.google.com/assets/colab-badge.svg\" alt=\"Open In Colab\"/></a>"
      ]
    },
    {
      "cell_type": "markdown",
      "metadata": {
        "id": "MZ1EwcWMCYnB",
        "colab_type": "text"
      },
      "source": [
        "#**ResumAI**\n",
        "***created by Brandon Nguyen, Curtis Lee, and Joshua Leung for CMPS 144 at UCSC***"
      ]
    },
    {
      "cell_type": "code",
      "metadata": {
        "id": "ter_CB12W9nH",
        "colab_type": "code",
        "outputId": "e7869f0f-31cc-4575-c126-f6e43c6b557e",
        "colab": {
          "base_uri": "https://localhost:8080/",
          "height": 34
        }
      },
      "source": [
        "import pandas as pd\n",
        "import numpy as np\n",
        "import io\n",
        "\n",
        "# matplot imports\n",
        "import matplotlib.pyplot as plt\n",
        "import matplotlib.image as mpimg\n",
        "\n",
        "# Keras imports\n",
        "import keras\n",
        "from keras.preprocessing import text, sequence\n",
        "from keras.utils import np_utils\n",
        "from keras.models import Model\n",
        "from keras.layers import Input, Dense\n",
        "from keras.preprocessing.text import one_hot\n",
        "from keras.preprocessing.text import text_to_word_sequence\n",
        "from tensorflow import keras\n",
        "from keras.models import Sequential\n",
        "from keras.layers import Dense, Activation, Dropout\n",
        "from keras import utils\n",
        "\n",
        "# Sklearn imports\n",
        "from sklearn.preprocessing import LabelBinarizer, LabelEncoder\n",
        "from sklearn.metrics import confusion_matrix\n",
        "\n",
        "# NLTK imports\n",
        "import nltk\n",
        "\n",
        "from nltk.tokenize import RegexpTokenizer\n",
        "from nltk.tokenize import word_tokenize\n",
        "from nltk.tokenize import sent_tokenize\n",
        "from nltk.stem.porter import PorterStemmer\n",
        "from nltk.corpus import stopwords"
      ],
      "execution_count": 0,
      "outputs": [
        {
          "output_type": "stream",
          "text": [
            "Using TensorFlow backend.\n"
          ],
          "name": "stderr"
        }
      ]
    },
    {
      "cell_type": "code",
      "metadata": {
        "id": "yulw7x3RXSzX",
        "colab_type": "code",
        "outputId": "9452f0f7-311e-41cc-a61e-b782c591c4d3",
        "colab": {
          "base_uri": "https://localhost:8080/",
          "height": 202
        }
      },
      "source": [
        "\n",
        "# Import raw csv from github\n",
        "url = 'https://raw.githubusercontent.com/hsoJLeu/resumAI/master/data/resume_dataset.csv'               # original data\n",
        "# url = 'https://raw.githubusercontent.com/hsoJLeu/resumAI/master/data/Clean-Culture.csv'                  # Only engineering and IT\n",
        "\n",
        "df = pd.read_csv(url)\n",
        "df.head()"
      ],
      "execution_count": 0,
      "outputs": [
        {
          "output_type": "execute_result",
          "data": {
            "text/html": [
              "<div>\n",
              "<style scoped>\n",
              "    .dataframe tbody tr th:only-of-type {\n",
              "        vertical-align: middle;\n",
              "    }\n",
              "\n",
              "    .dataframe tbody tr th {\n",
              "        vertical-align: top;\n",
              "    }\n",
              "\n",
              "    .dataframe thead th {\n",
              "        text-align: right;\n",
              "    }\n",
              "</style>\n",
              "<table border=\"1\" class=\"dataframe\">\n",
              "  <thead>\n",
              "    <tr style=\"text-align: right;\">\n",
              "      <th></th>\n",
              "      <th>ID</th>\n",
              "      <th>Category</th>\n",
              "      <th>Resume</th>\n",
              "    </tr>\n",
              "  </thead>\n",
              "  <tbody>\n",
              "    <tr>\n",
              "      <th>0</th>\n",
              "      <td>1</td>\n",
              "      <td>HR</td>\n",
              "      <td>b'John H. Smith, P.H.R.\\n800-991-5187 | PO Box...</td>\n",
              "    </tr>\n",
              "    <tr>\n",
              "      <th>1</th>\n",
              "      <td>2</td>\n",
              "      <td>HR</td>\n",
              "      <td>b'Name Surname\\nAddress\\nMobile No/Email\\nPERS...</td>\n",
              "    </tr>\n",
              "    <tr>\n",
              "      <th>2</th>\n",
              "      <td>3</td>\n",
              "      <td>HR</td>\n",
              "      <td>b'Anthony Brown\\nHR Assistant\\nAREAS OF EXPERT...</td>\n",
              "    </tr>\n",
              "    <tr>\n",
              "      <th>3</th>\n",
              "      <td>4</td>\n",
              "      <td>HR</td>\n",
              "      <td>b'www.downloadmela.com\\nSatheesh\\nEMAIL ID:\\nC...</td>\n",
              "    </tr>\n",
              "    <tr>\n",
              "      <th>4</th>\n",
              "      <td>5</td>\n",
              "      <td>HR</td>\n",
              "      <td>b\"HUMAN RESOURCES DIRECTOR\\n\\xef\\x82\\xb7Expert...</td>\n",
              "    </tr>\n",
              "  </tbody>\n",
              "</table>\n",
              "</div>"
            ],
            "text/plain": [
              "   ID Category                                             Resume\n",
              "0   1       HR  b'John H. Smith, P.H.R.\\n800-991-5187 | PO Box...\n",
              "1   2       HR  b'Name Surname\\nAddress\\nMobile No/Email\\nPERS...\n",
              "2   3       HR  b'Anthony Brown\\nHR Assistant\\nAREAS OF EXPERT...\n",
              "3   4       HR  b'www.downloadmela.com\\nSatheesh\\nEMAIL ID:\\nC...\n",
              "4   5       HR  b\"HUMAN RESOURCES DIRECTOR\\n\\xef\\x82\\xb7Expert..."
            ]
          },
          "metadata": {
            "tags": []
          },
          "execution_count": 2
        }
      ]
    },
    {
      "cell_type": "code",
      "metadata": {
        "id": "blBCDTpHXZzW",
        "colab_type": "code",
        "colab": {}
      },
      "source": [
        "# Data cleaning\n",
        "\n",
        "from io import StringIO\n",
        "col = ['Category', 'Resume']\n",
        "df = df[col]\n",
        "df = df[pd.notnull(df['Resume'])]\n",
        "df.columns = ['Category', 'Resume']\n",
        "df['category_id'] = df['Category'].factorize()[0]\n",
        "# clean category -> category Id\n",
        "\n",
        "# #DROPPING ROW 132 because it messes things up\n",
        "# df.drop(df.index[132])\n",
        "\n",
        "category_id_df = df[['Category', 'category_id']].drop_duplicates().sort_values('category_id')\n",
        "category_to_id = dict(category_id_df.values)\n",
        "id_to_category = dict(category_id_df[['category_id', 'Category']].values)\n",
        "\n",
        "# Drop resumes if data contain b'' there are 12 of these in our dataset\n",
        "# Empty resumes in the dataset, one hot can't encode empty resumes\n",
        "\n",
        "df = df[df['Resume'].map(len) > 4]\n",
        "\n",
        "# Get a count for resumes in the dataframe so that we can fix overfitting issues\n",
        "df['count_resumes'] = df.groupby(['Category', 'category_id'])['category_id'].transform('count')\n",
        "  \n",
        "# To look at count of resumes per category  \n",
        "countDF = df[['Category', 'count_resumes']]\n",
        "#print(\"Number of resumes per category:\")\n",
        "countDF.drop_duplicates(subset='Category', keep=\"first\")\n",
        "\n",
        "df = df.reset_index(drop=True)"
      ],
      "execution_count": 0,
      "outputs": []
    },
    {
      "cell_type": "code",
      "metadata": {
        "id": "YUQB9AGZ_sxe",
        "colab_type": "code",
        "colab": {}
      },
      "source": [
        "\n",
        "\n",
        "resume_list = df['Resume']            # get resume list\n",
        "category_list = df['Category']        # get category list\n",
        "category_id_list = df['category_id']  # get category id list\n",
        "\n",
        "# print(category_list[132])"
      ],
      "execution_count": 0,
      "outputs": []
    },
    {
      "cell_type": "code",
      "metadata": {
        "id": "YcY_EFBhfQKd",
        "colab_type": "code",
        "colab": {}
      },
      "source": [
        "# for i in range(0, len(resume_list)):\n",
        "# #   if i is not 132:\n",
        "#     print(category_list[i])"
      ],
      "execution_count": 0,
      "outputs": []
    },
    {
      "cell_type": "markdown",
      "metadata": {
        "id": "viL7aBXoemJp",
        "colab_type": "text"
      },
      "source": [
        "##Clean and preprocess data"
      ]
    },
    {
      "cell_type": "code",
      "metadata": {
        "id": "wt71P2nrwxZi",
        "colab_type": "code",
        "outputId": "3af38265-871a-4190-b68e-5c56015c7ff0",
        "colab": {
          "base_uri": "https://localhost:8080/",
          "height": 210
        }
      },
      "source": [
        "# This part applies regex and cleans data in resume field \n",
        "\n",
        "from keras.preprocessing.text import one_hot\n",
        "from keras.preprocessing.text import text_to_word_sequence\n",
        "\n",
        "nltk.download('stopwords')\n",
        "import re\n",
        "\n",
        "wpt = nltk.WordPunctTokenizer()\n",
        "stop_words = nltk.corpus.stopwords.words('english')\n",
        "\n",
        "def normalize_document(doc):\n",
        "    # lower case and remove special characters\\whitespaces\n",
        "    doc = re.sub(r'[^a-zA-Z\\s]', '', doc, re.I|re.A)\n",
        "    # Get rid of the unicodes starting with \\\n",
        "    doc = re.sub(r'[^\\x00-\\xff]',r'', doc) \n",
        "    doc = doc.lower()\n",
        "    doc = doc.strip()\n",
        "    # tokenize document\n",
        "    tokens = wpt.tokenize(doc)\n",
        "    # filter stopwords out of document\n",
        "    filtered_tokens = [token for token in tokens if token not in stop_words]\n",
        "    # re-create document from filtered tokens\n",
        "    doc = ' '.join(filtered_tokens)\n",
        "    return doc\n",
        "\n",
        "normalize_corpus = np.vectorize(normalize_document)\n",
        "norm_corpus = normalize_corpus(resume_list)\n",
        "norm_corpus # this is a numpy array & cleaned out data\n",
        "\n",
        "# test\n",
        "resume_list = norm_corpus\n",
        "resume_list\n",
        "\n",
        "# resume_corpus_list = []\n",
        "# for corpus in norm_corpus:\n",
        "#   length_corpus = len(corpus)\n",
        "#   filter_text = keras.preprocessing.text.one_hot(corpus, length_corpus, filters='!\"#$%&()*+,-./:;<=>?@[\\\\]^_`{|}~\\t\\n', lower=True, split=' ')\n",
        "#   resume_corpus_list.append(filter_text)\n",
        "\n",
        "# # corpus_list\n",
        "# resume_corpus_list\n",
        "\n",
        "# STEM ONLY IF NEEDED\n",
        "# porter = PorterStemmer()\n",
        "# stemmed = [porter.stem(word) for word in corpus_list]\n",
        "# print(stemmed[:500]) # Stemmed"
      ],
      "execution_count": 0,
      "outputs": [
        {
          "output_type": "stream",
          "text": [
            "[nltk_data] Downloading package stopwords to /root/nltk_data...\n",
            "[nltk_data]   Unzipping corpora/stopwords.zip.\n"
          ],
          "name": "stdout"
        },
        {
          "output_type": "execute_result",
          "data": {
            "text/plain": [
              "array([\"bjohn h smith phrn po box callahan fl infogreatresumesfastcomnnapproachable innovator passion human resourcesnnsenior human resources professionalnpersonable analytical flexible senior hr professional multifaceted expertise seasoned benefits administrator withnextensive experience working highly paid professionals clientrelationshipbased settings dynamic team leaderncapable analyzing alternatives identifying tough choices communicating total value benefit andncompensation packages senior level executives employeesnncore competenciesnbenefits administration xexx customer service xexx cost control xexx recruiting xexx acquisition management xexx compliance reportingnretention xexx professional services xexx domestic international benefits xexx collaboration xexx adaptability xexx change managementndefined contribution plans xexx auditing xexx negotiation xexx corporate hr policies xexx full lifecycle training xexx k xexx form nconfidential files xexx eeo xexx aap xexx fmla xexx std xexx ltd xexx hb visa xexx vets xe2 \\\\ x80 \\\\ x93 eap \\\\ xe2 \\\\ x80 \\\\ x93 processing payroll \\\\ n \\\\ nhr technology \\\\ n \\\\ nhris data management & auditing \\\\ xe2 \\\\ x80 \\\\ x93 ultipro back office \\\\ xe2 \\\\ x80 \\\\ x93 ultipro web connect \\\\ ndeltek costpoint \\\\ xe2 \\\\ x80 \\\\ x93 deltek gcs premiere \\\\ xe2 \\\\ x80 \\\\ x93 cognos \\\\ xe2 \\\\ x80 \\\\ x93 adp \\\\ n \\\\ nprofessional experience \\\\ nhuman services , inc . \\\\ xe2 \\\\ x80 \\\\ x93 tampa , fl \\\\ n \\\\ n2010 \\\\ xe2 \\\\ x80 \\\\ x93present \\\\ n \\\\ nproviding institutional behavioral health medical management contracting services | 2 , 500 employees \\\\ n \\\\ nbenefits manager \\\\ nmanage administer robust $ 13m health welfare program ; administer benefits programs two smaller \\\\ nminority business enterprise clients . deliver excellence client services , leveraging interpersonal skills establish \\\\ nrapport team members . perform cost analysis , gather claims data , coordinate enrollment large selffunded medical plan plus two smaller fully - insured plans . analyze data projections create forecasts narrative \\\\ nand graph format ; clearly succinctly communicate trends senior management meetings . directly supervise \\\\ nstaff 3 : hr admin , plus two human resource specialists .\\\\ n \\\\ xef \\\\ x81 \\\\ xb3 lead healthcare reform change management process , analyzing changes , developing strategic plans , \\\\ n \\\\ ntimeline crucial decisions ahead 2014 deadlines . communicate early changes dependent coverage ,\\\\ npreventive care , lifetime maximum benefits employees .\\\\ n \\\\ n \\\\ xef \\\\ x81 \\\\ xb3 identified , researched , implemented hsa ( healthcare savings account ) health insurance option high -\\\\ n \\\\ ndeductible health insurance plan provide tax - sheltered benefits physicians high - income , highprofile professionals .\\\\ n \\\\ n \\\\ xef \\\\ x81 \\\\ xb3 saved $ 30k annually restructuring open enrollment strategy , leveraging existing human capital hr \\\\ n \\\\ nbusiness partners achieve better communication lower cost .\\\\ n \\\\ n \\\\ xef \\\\ x81 \\\\ xb3 quickly establish rapport employees ; balance client - relationship needs organizational goals , cost \\\\ n \\\\ ncontrols , compliance requirements create positive work environment .\\\\ n \\\\ n \\\\ xef \\\\ x81 \\\\ xb3 maximize employee recruiting retention implementing competitive benefits packages clearly \\\\ n \\\\ ncommunicating value team members .\\\\ n \\\\ n \\\\ xef \\\\ x81 \\\\ xb3 reduced costs $ 20k per year collaborating closely legal department create - house total comp \\\\ n \\\\ nstatement including implications taxes social security ; produced better - quality analysis lower costs .\\\\ n \\\\ n \\\\ x0cjohn h . smith , p . h . r . \\\\ xe2 \\\\ x80 \\\\ x93 page 2 \\\\ n \\\\ n800 - 991 - 5187 | info @ greatresumesfast . com \\\\ n \\\\ napproachable innovator passion human resources .\\\\ nhuman management inc . \\\\ xe2 \\\\ x80 \\\\ x93 atlanta , ga \\\\ n \\\\ n2008 \\\\ xe2 \\\\ x80 \\\\ x932010 \\\\ n \\\\ nnonprofit government consulting firm | 1 , 200 domestic international employees \\\\ n \\\\ nsenior human resources generalist \\\\ nperformed diverse human resources functions : administered benefits , led special projects , updated policies ,\\\\ ncollaborated eeo - 1 , vets 100 , affirmative action plan ( aap ) reporting . revamped orientation training \\\\ nprograms newly hired employees include comprehensive information delivered - personal formats :\\\\ nteleconferences , small group meetings , tours , one - - one conversations , follow - phone calls . supervised hr \\\\ nassistant 3 temporary human resource specialists handling high volume work peak periods \\\\ nopen enrollment company merger .\\\\ n \\\\ xef \\\\ x81 \\\\ xb3 led change management process seamlessly integrated benefits , compensation , retirement plans , \\\\ n \\\\ nlogistics newly acquired company 60 + employees ; prepared - encompassing reports total \\\\ ncompensation plans .\\\\ n \\\\ n \\\\ xef \\\\ x81 \\\\ xb3 developed webinars personal meetings communicate value benefits employees despite reductions \\\\ n \\\\ nduring economic recession ; maintained employee retention job satisfaction rankings despite cutbacks .\\\\ n \\\\ n \\\\ xef \\\\ x81 \\\\ xb3 reduced overall benefit costs 10 % including decrease std benefits 100 % 75 % base \\\\ n \\\\ ncompensation without significant increase employee turnover .\\\\ n \\\\ n \\\\ xef \\\\ x81 \\\\ xb3 researched procured benefits government contractors traveling hazardous areas including kidnap &\\\\ n \\\\ nransom ( k & r ), increased life insurance , travel insurance .\\\\ n \\\\ n \\\\ xef \\\\ x81 \\\\ xb3 identified implemented medical dental benefit plans ensure comparable compensation \\\\ n \\\\ ninternational employees worldwide .\\\\ n \\\\ n \\\\ xef \\\\ x81 \\\\ xb3 managed diverse retirement plans including defined contribution 403 ( b ), 401 ( ), executive 457 ( b ) plans .\\\\ n \\\\ nabc corporation \\\\ xe2 \\\\ x80 \\\\ x93 new york , ny \\\\ n \\\\ n2007 \\\\ xe2 \\\\ x80 \\\\ x932008 \\\\ n \\\\ nengineering construction consulting | 500 international domestic employees \\\\ nsenior human resources generalist \\\\ nacme , inc . \\\\ xe2 \\\\ x80 \\\\ x93 washington , . c .\\\\ n \\\\ n2004 \\\\ xe2 \\\\ x80 \\\\ x932006 \\\\ n \\\\ nprofessional services consulting firm | 300 employees \\\\ nhr generalist / benefits specialist \\\\ n \\\\ nhuman resource corporation \\\\ xe2 \\\\ x80 \\\\ x93 tampa , fl \\\\ nit & environmental management consulting firm | 300 employees \\\\ nhuman resources assistant \\\\ n \\\\ neducation , certification , & affiliation \\\\ nbachelor science psychology , 2002 \\\\ ncommunity college \\\\ nprofessional human resources ( phr ) certificate , 2010 \\\\ nemployee benefit specialist ( cebs ), certification pending \\\\ nmember shrm \\\\ xe2 \\\\ x80 \\\\ x93 society human resource management \\\\ n \\\\ n2002 \\\\ xe2 \\\\ x80 \\\\ x932004 '\",\n",
              "       'bname surnamenaddressnmobile noemailnpersonal profileni self motivated individual confident approach people communicatenwell levels personnel feel good listening ability allowsnme resolve problems quicklyni enthusiastic role enjoy working hr like fast pacednenvironment always changing like adapt changes quicklynallowing others also adapt quicklyni organized nature like ensure date work enjoynnew challenges always keen learn new skillsnemployment historyndate date date xexx hr consultant xexx wherenin role hr consultant visit clients provide hr advice help resolvenissues responsibilities includenxefxxbprovide employment law advicenxefxxbhelp writing issuing contracts employment employee handbooksnxefxxbadvise maternitypaternity rightsnxefxxbhelp payroll holidays sickness etcnxefxxbbuilding relationships new existing clientsnxefxxbtraining new staff coming business managers deal staffnwith regards personnelnxefxxbconduct disciplinary hearings appeals intermediary personnxefxxbdevise staff benefits incentivesnxefxxblearning development opportunities companies staffnqualificationsnuniversity college school xexx include titlessubjects qualificationsnskills abilitiesncomputer skills xexx ms office excel specific hr databases record keepingnsoftware cipd qualification working towardsnhobbies interestsnwhat like outside worknreferencesnavailable request',\n",
              "       \"banthony brownnhr assistantnareas expertisennpersonal summarynnhr processes systemsnna competent organised individual able work part team andnmanage several priorities one time anthony positive attitudenstrong work ethic keen desire learn grow within firm henpossesses superb communications skills always treats people respectnand according individual needs dedicated professional fullynunderstands importance hr department organisation andntherefore aims make office works effective efficient asnpossible extensive experience working commercially focussednorganisations fully understands pressures achieving targets andnaccurately assessing job applicants according abilitynncontract documentngenerationnaccepting resignationsnbusiness administrationnnote takingnnright would like work friendly exciting company isnlooking hr assistant reflect values excellence qualitynnrecruitment methodologiesncareer historynemployment legislationnanswering queriesndocument managementnequal opportunitiesnabsence managementncalendar managementnprescreeningnshortlisting candidatesnncareer statementnxexxci feel greatestnstrengths firstly strongncommitment providing anprofessional service fellowncolleagues secondly skill atndeveloping maintaining anclose working relationshipsnwith people socialnbackgrounds turnnhelps gain indepthnunderstanding theirnindividual needs thirdly mynreal passion hr field asna whole obsession whichnallows spot trends andndevelop best practisenprocessesxexxdnnanthony brownnncompany office birminghamnhr assistantnjul presentnresponsible full employee life cycle recruitment induction exitnand providing full administrative support hr managers officersnalso involved day daytoday running hr officenxefxxb ensuring department complies recruitment policies laws andnregulationsnxefxxb writing professional job advertsnxefxxb putting together new employee starter packsnxefxxb setting monitoring tracking employee probationary periodsnxefxxb carrying background reference checks prospective employeesnxefxxb acting first point contact anyone enquiring vacancynxefxxb maintenance hr records systemsnxefxxb keeping track employee anniversaries awards duenxefxxb developing reports senior hr officers staff sick leave absencesnand holiday leavenxefxxb screening phone calls emails letters personal visitsnxefxxb providing professional advisory support company employeesnxefxxb interpreting clarifying companies hr policies practicesninsurance company coventrynhr assistant feb jul nwas responsible providing first class proactive administrative hr supportnservice colleagues human resource department also involved innproviding assistance recruitment hiring processnnxefxxbnxefxxbnxefxxbnxefx \\\\ xb7 \\\\ n \\\\ xef \\\\ x82 \\\\ xb7 \\\\ n \\\\ xef \\\\ x82 \\\\ xb7 \\\\ n \\\\ xef \\\\ x82 \\\\ xb7 \\\\ n \\\\ xef \\\\ x82 \\\\ xb7 \\\\ n \\\\ xef \\\\ x82 \\\\ xb7 \\\\ n \\\\ xef \\\\ x82 \\\\ xb7 \\\\ n \\\\ xef \\\\ x82 \\\\ xb7 \\\\ n \\\\ xef \\\\ x82 \\\\ xb7 \\\\ n \\\\ narranged pre - employment medical examinations .\\\\ nprocessed payroll information accurate timely manner .\\\\ nupdated maintained staff bulletin boards & newsletter .\\\\ nfiled electronic hard copy documents .\\\\ nmonitored hr departments general expenditure .\\\\ nhandled employee time requests grievances .\\\\ nsent relevant contractual information .\\\\ nfollowed outstanding issues .\\\\ nescalated operational issues senior management .\\\\ nanalyzed complex data documentation .\\\\ nprepared high quality paperwork documentation .\\\\ nmade travel arrangements & organised accommodation senior managers .\\\\ n \\\\ n \\\\ x0cpersonal skills \\\\ n \\\\ nlocal school \\\\ xe2 \\\\ x80 \\\\ x93 west midlands \\\\ noffice junior \\\\ n \\\\ naug 2008 \\\\ xe2 \\\\ x80 \\\\ x93 feb 2009 \\\\ n \\\\ ncompetitive \\\\ ngovernment office \\\\ xe2 \\\\ x80 \\\\ x93 west bromwich \\\\ ndeadline led \\\\ n \\\\ noffice assistant \\\\ n \\\\ nenergetic \\\\ n \\\\ nclothes store - dudley \\\\ nsales assistant \\\\ n \\\\ njun 2007 \\\\ xe2 \\\\ x80 \\\\ x93 aug 2008 \\\\ n \\\\ noct 2006 \\\\ xe2 \\\\ x80 \\\\ x93 may 2007 \\\\ n \\\\ ntime management \\\\ ndecision making \\\\ n \\\\ nlocal charity - birmingham \\\\ nvolunteer \\\\ n \\\\ nattention detail \\\\ nexcellent communicator \\\\ ntactful & articulate \\\\ nproblem solving \\\\ nquick thinking \\\\ nteam player \\\\ nconflict resolution \\\\ nprofessional mannerisms \\\\ nintegrity \\\\ n \\\\ nprofessional \\\\ nadvanced first aid \\\\ nfrench speaker \\\\ ngerman speaker \\\\ n \\\\ njul 2006 \\\\ xe2 \\\\ x80 \\\\ x93 oct 2006 \\\\ n \\\\ nkey competencies skills \\\\ nhuman resources administration \\\\ n \\\\ xef \\\\ x82 \\\\ xb7 resolving typical common hiring problems .\\\\ n \\\\ xef \\\\ x82 \\\\ xb7 negotiating candidates , employers related third parties .\\\\ n \\\\ xef \\\\ x82 \\\\ xb7 developing procedures , policies & standards recruitment .\\\\ n \\\\ xef \\\\ x82 \\\\ xb7 writing contracts , including terms conditions .\\\\ n \\\\ xef \\\\ x82 \\\\ xb7 tactfully resolving disputes different parties .\\\\ n \\\\ xef \\\\ x82 \\\\ xb7 handling confidential information professional manner .\\\\ n \\\\ xef \\\\ x82 \\\\ xb7 knowledge specialist hr software automated systems .\\\\ n \\\\ xef \\\\ x82 \\\\ xb7 depth conversations people phone & face face .\\\\ nprofessional \\\\ n \\\\ xef \\\\ x82 \\\\ xb7 working fast paced , high transaction volume environment .\\\\ n \\\\ xef \\\\ x82 \\\\ xb7 ability organise & prioritise workload within setting .\\\\ n \\\\ xef \\\\ x82 \\\\ xb7 knowledge monitoring progress employees career .\\\\ n \\\\ xef \\\\ x82 \\\\ xb7 completing tasks timely , organised professional manner .\\\\ n \\\\ xef \\\\ x82 \\\\ xb7 ability communicate effectively english , orally writing .\\\\ n \\\\ xef \\\\ x82 \\\\ xb7 maintaining hr paperwork ensure compliance relevant legislation .\\\\ n \\\\ xef \\\\ x82 \\\\ xb7 able work multiple projects simultaneously .\\\\ npersonal \\\\ n \\\\ xef \\\\ x82 \\\\ xb7 able work closely professionals part team .\\\\ n \\\\ xef \\\\ x82 \\\\ xb7 strong influencing communication skills .\\\\ n \\\\ xef \\\\ x82 \\\\ xb7 ability pick new skills knowledge quickly .\\\\ n \\\\ xef \\\\ x82 \\\\ xb7 function fast - paced environment .\\\\ n \\\\ xef \\\\ x82 \\\\ xb7 comfortable \\\\ xe2 \\\\ x80 \\\\ x98go \\\\ xe2 \\\\ x80 \\\\ x99 person company .\\\\ n \\\\ xef \\\\ x82 \\\\ xb7 thinking laterally create options solutions .\\\\ n \\\\ xef \\\\ x82 \\\\ xb7 positive \\\\ xe2 \\\\ x80 \\\\ x98can \\\\ xe2 \\\\ x80 \\\\ x99 attitude towards work .\\\\ nacademic qualifications \\\\ n \\\\ npersonal details \\\\ nanthony brown \\\\ ndayjob ltd \\\\ nthe big peg \\\\ nbirmingham \\\\ nb18 6nf \\\\ nt : 0044 121 638 0026 \\\\ nm : 0870 061 0121 \\\\ ne : info @ dayjob . com \\\\ n \\\\ nuniversity birmingham ,\\\\ nba ( hons )\\\\ nbusiness administration \\\\ n \\\\ n2003 - 2006 \\\\ n \\\\ ncentral college birmingham \\\\ ndiploma business studies \\\\ n \\\\ n2002 - 2003 \\\\ n \\\\ nnorth birmingham school \\\\ na levels :\\\\ ngeography ( )\\\\ nmaths ( )\\\\ nenglish literature communication ( b ).\\\\ nhistory teh modern world ( b )\\\\ nphysics science combined ( )\\\\ n \\\\ n1998 - 2002 \\\\ n \\\\ nreferences \\\\ xe2 \\\\ x80 \\\\ x93 available request .\\\\ n \\\\ n \\\\ x0ccopyright information - please read \\\\ n \\\\ xc2 \\\\ xa9 hr assistant resume template copyright dayjob ltd 2013 . job seekers may download use \\\\ nparticular resume example personal use help write one . also welcome link \\\\ nany page site www . dayjob . com . however cv template must distributed made available \\\\ nwebsites without prior permission . questions relating use template please email :\\\\ ninfo @ dayjob . com .'\",\n",
              "       ...,\n",
              "       \"bmajor conrad preedomn fairchild dr suite hnusaf academy co n nconradpreedomusafaedunteaching experiencenassistant professor management director curriculum us air force academy co presentncoordinated classes annually faculty members cadets developed curriculum advancednmanagement courses provided classroom instruction sections cadets semesters multiple upperlevelncourses provided focused professional mentorship cadetsndiamond star ta instructor pilot us air force academy co presentnperformed instructor pilot duties singleengine diamond star da trainer aircraft provided instruction tonseasoned air force pilots well us air force academy cadets cockpitncessna tb instructor pilot laughlin air force base tx nperformed instructor pilot duties us air forcexexxs largest pilot training base air forcexexxs primary jet trainernprovided classroom instruction flight instruction aspects flying include traffic patternslandingsnaerobatic flight spin training instrument flying formation flying day night cross country navigationnschweitzer instructor pilot us air force academy co nperformed instructor pilot duties us air force academyxexxs soar program provided flightline sailplanencockpit instruction semesters cadets focus aerotow primary maneuvering traffic patterns landingnflying experiencen xexx present flight hours instructor pilot hours diamond star da usaf tn xexx n hours flight lead hours mcdonnell douglas fe strike eaglen xexx n hours northrop atbn xe \\\\ x80 \\\\ x93 2003 \\\\ n1 , 311 flight hours / 1051 instructor pilot hours cessna - 37b \\\\ n1999 \\\\ xe2 \\\\ x80 \\\\ x93 2000 \\\\ n26 flight hours northrop - 38a \\\\ n1995 \\\\ xe2 \\\\ x80 \\\\ x93 1998 \\\\ n250 flight hours / 175 instructor pilot hours schweitzer 2 - 33 ( usaf tg - 4 )\\\\ nother aircraft flown include slingsby - 3a firefly , cessna - 41c / , cessna 172 .\\\\ nusaf duty history \\\\ n2008 \\\\ xe2 \\\\ x80 \\\\ x93 present assistant professor management , director curriculum , us air force academy , co \\\\ n2007 \\\\ xe2 \\\\ x80 \\\\ x93 2008 \\\\ ndirector staff , seventh air force operations / plans ( a3 & a5 ), osan air base , republic korea \\\\ n2004 \\\\ xe2 \\\\ x80 \\\\ x93 2007 \\\\ ncommander plans flight , f - 15e multi - ship flight lead , seymour johnson air force base , nc \\\\ n2003 \\\\ xe2 \\\\ x80 \\\\ x93 2004 \\\\ nf - 15e student pilot , seymour johnson air force base , nc \\\\ n2000 \\\\ xe2 \\\\ x80 \\\\ x93 2003 \\\\ nexecutive officer 47th operations group , - 37b instructor pilot , laughlin air force base , tx \\\\ n1999 \\\\ xe2 \\\\ x80 \\\\ x93 2000 \\\\ nus air force pilot training student , laughlin air force base , tx \\\\ nformal education \\\\ nmba , business administration & management , university pittsburgh , pa ; 1999 , gpa 3 . 88 \\\\ nbs , operations research , us air force academy , co ; 1998 , gpa 3 . 72 \\\\ nprofessional military education \\\\ nair command staff college \\\\ xe2 \\\\ x80 \\\\ x93 2008 \\\\ nsquadron officer school \\\\ xe2 \\\\ x80 \\\\ x93 2005 \\\\ nratings certifications \\\\ ncertified flight instructor , federal aviation administration \\\\ xe2 \\\\ x80 \\\\ x93 2010 \\\\ nsenior pilot , united states air force \\\\ xe2 \\\\ x80 \\\\ x93 2007 \\\\ ncommercial pilot , federal aviation administration \\\\ xe2 \\\\ x80 \\\\ x93 2000 \\\\ npilot , united states air force \\\\ xe2 \\\\ x80 \\\\ x93 2000 \\\\ nbasic parachutist , united states air force \\\\ xe2 \\\\ x80 \\\\ x93 1995 \\\\ n \\\\ n \\\\ x0chonor awards \\\\ nfield grade officer quarter , division level , dept management , us air force academy , co \\\\ xe2 \\\\ x80 \\\\ x93 2010 \\\\ noutstanding academy educator award , dept management , us air force academy , co \\\\ xe2 \\\\ x80 \\\\ x93 2010 \\\\ nfield grade officer quarter , division level , dept management , us air force academy , co \\\\ xe2 \\\\ x80 \\\\ x93 2009 \\\\ nf . theodore helmer teaching award , department management , us air force academy , co \\\\ xe2 \\\\ x80 \\\\ x93 2008 \\\\ ncompany grade officer quarter , 4th operations support squadron , seymour johnson air force base , nc \\\\ xe2 \\\\ x80 \\\\ x93 2006 \\\\ nf - 15e leadership award , 334th fighter squadron , seymour johnson air force base , nc \\\\ xe2 \\\\ x80 \\\\ x93 2004 \\\\ ninstructor pilot year , 84th flying training squadron , laughlin air force base , tx \\\\ xe2 \\\\ x80 \\\\ x93 2002 \\\\ ncompany grade officer quarter , 84th flying training squadron , laughlin air force base , tx \\\\ xe2 \\\\ x80 \\\\ x93 2002 \\\\ nbeta gamma sigma honor society , katz graduate school business , university pittsburgh , pa \\\\ xe2 \\\\ x80 \\\\ x93 1999 \\\\ ndistinguished graduate , united states air force academy , co \\\\ xe2 \\\\ x80 \\\\ x93 1998 \\\\ nomega rho honor society operations research , united states air force academy , co \\\\ xe2 \\\\ x80 \\\\ x93 1998 \\\\ nair force awards decorations \\\\ nmeritorious service medal \\\\ nair force commendation medal \\\\ nair force achievement medal \\\\ nair force outstanding unit award \\\\ nair force organizational excellence award \\\\ ncombat readiness medal \\\\ nnational defense service medal \\\\ nglobal war terrorism service medal \\\\ nkorean defense service medal \\\\ naf longevity service \\\\ nsmall arms expert marksmanship ribbon ( pistol )\\\\ naf training ribbon '\",\n",
              "       \"bstacy samplenn cellnnemailcomnnqualificationsnnflight timennflight ratingsnfaa atp xexx airline transport pilotncfi rotorcrafthelicopterns typeratingsnmedicalnfaa class nnexperiencensikorsky test pilotnjul xexx presentnntotalnnnnpilot commandnpilotnhelicopter multienginencross countryninstrument ifrhoodnactual weathernnnnnnnnnnightnnight vision gogglenoffshoreoverwaternexternal loadnemsnmountainnnnnnnnnnsikorsky aircraft corporation xexx coatesville pans production test pilot xexx maintenance test pilot engineeringntest flight civil foreign military flight instructor customerndemonstrations international ifr vfr overwater experiencennbell corporate ifr captainnjan xexx jun nnelite aviation xexx los angeles cansingle pilot bell corporate ifr captain xexx offairport landingnlogistics airground security company contract included occasionalnscreen actors guild motion picture work part nnsikorsky ems captainnoct 003 \\\\ xe2 \\\\ x80 \\\\ x93 dec 2005 \\\\ n \\\\ nchildren \\\\ xe2 \\\\ x80 \\\\ x99s hospital los angeles / helinet aviation \\\\ xe2 \\\\ x80 \\\\ x93van nuys , ca \\\\ nsingle pilot - 76 ems captain \\\\ xe2 \\\\ x80 \\\\ x93 mountainous , rooftop confined \\\\ nareas . - day schedule included as350 & - 76 charter , corporate \\\\ ntransport , film work , eng , maintenance test flight . part 91 , 135 .\\\\ n \\\\ nas 350 charter / tour pilot \\\\ njan 2002 \\\\ xe2 \\\\ x80 \\\\ x93 sep 2003 \\\\ n \\\\ nsundance helicopters \\\\ xe2 \\\\ x80 \\\\ x93 las vegas , nv grand canyon , az \\\\ neurocopter 350 charter pilot \\\\ xe2 \\\\ x80 \\\\ x93 tour , charter , maintenance flights .\\\\ nhigh temp / da , high canyon winds max gross weight , 5000ft \\\\ nmountainous terrain . part 91 , 135 .\\\\ n \\\\ nsikorsky - 70 & bell 205 pilot \\\\ njan 1994 \\\\ xe2 \\\\ x80 \\\\ x93 nov 2001 \\\\ n \\\\ nunited states army \\\\ xe2 \\\\ x80 \\\\ x93 us middle east \\\\ ns - 70 bell 205 pilot command \\\\ xe2 \\\\ x80 \\\\ x93 night vision goggle , low level ,\\\\ nexternal load , rappel , fast rope , parachute drop , drug intervention ,\\\\ noverwater , medevac , pinnacle , confined area , desert , high temp / da , \\\\ nabove 10 , 000ft mountainous terrain .\\\\ n \\\\ neducation \\\\ nmanufacturer approved courses \\\\ nsikorsky 70 / 76 / 92 / bell 430 \\\\ nmaster aeronautical science \\\\ n2014 \\\\ nbachelor science aeronautics \\\\ n2010 \\\\ nuh - 1 huey / uh - 60 black hawk \\\\ n1994 - 1996 \\\\ n \\\\ nflight safety international \\\\ ninitial type - ratings recurrent training \\\\ nembry - riddle aeronautical university \\\\ nspecialization aviation / aerospace education technology \\\\ nembry - riddle aeronautical university \\\\ nsumma cum laude \\\\ nu . . army flight school \\\\ nfort rucker , al \\\\ nbell 205 ( uh - 1 ) sikorsky - 70 ( uh - 60 ) aircraft qualifications '\",\n",
              "       \"bentry level resume guidennthis packet intended serve starting point creating improving resumenit includes sample resumes well best practices helpful resources developing ansuccessful documentndepaul universityxexxs peer career advisors available walkin basis assist withncreating andor improving resume inquire peer career advisor program hoursnby calling career center loop campus lincolnnpark campusnnxccontentsninnresume purpose design mechanicsxexxaxexxaxexxaxexxaxexxaxexxaxexxaxexxaxexxaxexxaxexxaxexxapage nniinnkey elements successful resumesxexxaxexxaxexxaxexxaxexxaxexxaxexxaxexxaxexxaxexxaxexxaxexxapage nthis document intended guide creating resume outliningnimportant types information include tips professional andnpersuasive manner please note intended template formatnemployed may may best represent consider meeting peer careernadvisor discuss might best layout resumen \\\\ niii .\\\\ n \\\\ ntransferable skills & action verbs \\\\ xe2 \\\\ x80 \\\\ xa6 \\\\ xe2 \\\\ x80 \\\\ xa6 \\\\ xe2 \\\\ x80 \\\\ xa6 \\\\ xe2 \\\\ x80 \\\\ xa6 \\\\ xe2 \\\\ x80 \\\\ xa6 \\\\ xe2 \\\\ x80 \\\\ xa6 \\\\ xe2 \\\\ x80 \\\\ xa6 \\\\ xe2 \\\\ x80 \\\\ xa6 \\\\ xe2 \\\\ x80 \\\\ xa6 \\\\ xe2 \\\\ x80 \\\\ xa6 \\\\ xe2 \\\\ x80 \\\\ xa6 \\\\ xe2 \\\\ x80 \\\\ xa6 \\\\ xe2 \\\\ x80 \\\\ xa6 \\\\ xe2 \\\\ x80 \\\\ xa6 \\\\ xe2 \\\\ x80 \\\\ xa6 . page 5 \\\\ ntransferable skills applied variety industries job \\\\ nfunctions . considering transferable skills want convey employers \\\\ ngreat place start composing resume . list sampling types \\\\ nskills might highlight resume , addition skills \\\\ nspecific major , intended industry , job function .\\\\ na sampling action verbs also included page . sure use strong action \\\\ nverbs begin bulleted statements , previewing skill exemplified \\\\ nthrough accomplishment statement .\\\\ n \\\\ niv .\\\\ n \\\\ nchronological resume samples ...\\\\ xe2 \\\\ x80 \\\\ xa6 \\\\ xe2 \\\\ x80 \\\\ xa6 \\\\ xe2 \\\\ x80 \\\\ xa6 \\\\ xe2 \\\\ x80 \\\\ xa6 \\\\ xe2 \\\\ x80 \\\\ xa6 \\\\ xe2 \\\\ x80 \\\\ xa6 \\\\ xe2 \\\\ x80 \\\\ xa6 \\\\ xe2 \\\\ x80 \\\\ xa6 \\\\ xe2 \\\\ x80 \\\\ xa6 \\\\ xe2 \\\\ x80 \\\\ xa6 \\\\ xe2 \\\\ x80 \\\\ xa6 \\\\ xe2 \\\\ x80 \\\\ xa6 \\\\ xe2 \\\\ x80 \\\\ xa6 \\\\ xe2 \\\\ x80 \\\\ xa6 \\\\ xe2 \\\\ x80 \\\\ xa6 ... pages 6 - 11 \\\\ nin commonly accepted resume format , job titles employers \\\\ nemphasized , starting recent experiences illustrate progressive work \\\\ nhistory . skills accomplishments described bulleted statements \\\\ nunder position . resume type recommended people recently \\\\ ngraduated bachelor \\\\ xe2 \\\\ x80 \\\\ x99s degree , staying within career field ,\\\\ nand candidates time gaps job history . type often preferred \\\\ nby employers easy scan , highlights job titles , employers , dates , \\\\ nclearly ties candidates \\\\ xe2 \\\\ x80 \\\\ x99 skills accomplishments work histories .\\\\ n \\\\ nv .\\\\ n \\\\ nfunctional & combination resume samples ...\\\\ xe2 \\\\ x80 \\\\ xa6 \\\\ xe2 \\\\ x80 \\\\ xa6 \\\\ xe2 \\\\ x80 \\\\ xa6 \\\\ xe2 \\\\ x80 \\\\ xa6 \\\\ xe2 \\\\ x80 \\\\ xa6 \\\\ xe2 \\\\ x80 \\\\ xa6 \\\\ xe2 \\\\ x80 \\\\ xa6 \\\\ xe2 \\\\ x80 \\\\ xa6 \\\\ xe2 \\\\ x80 \\\\ xa6 .. pages 12 - 13 \\\\ nthis format option candidates changed employers frequently ,\\\\ nhave gaps employment history , hoping transition new industry \\\\ unrelated job function . functional resumes enable candidates highlight \\\\ ntransferable skills , placing less emphasis employment dates , job titles , \\\\ nemployers .\\\\ n \\\\ nvi .\\\\ n \\\\ nadditional career center resume resources \\\\ xe2 \\\\ x80 \\\\ xa6 \\\\ xe2 \\\\ x80 \\\\ xa6 \\\\ xe2 \\\\ x80 \\\\ xa6 \\\\ xe2 \\\\ x80 \\\\ xa6 \\\\ xe2 \\\\ x80 \\\\ xa6 \\\\ xe2 \\\\ x80 \\\\ xa6 \\\\ xe2 \\\\ x80 \\\\ xa6 \\\\ xe2 \\\\ x80 \\\\ xa6 \\\\ xe2 \\\\ x80 \\\\ xa6 \\\\ xe2 \\\\ x80 \\\\ xa6 ... page 14 \\\\ n \\\\ n2 \\\\ n \\\\ n \\\\ x0ci . resume purpose , design , & mechanics \\\\ nthe purpose resume market employers succinctly summarizing education , experience ,\\\\ nand skills , ultimately aiming convince employers invite interview . conceptualizing resume ,\\\\ nthink marketing tool , rather simple work history , intended promote perfect \\\\ ncandidate opportunity hand .\\\\ nresume writing art , science . one correct way formulate resume , best \\\\ npractices standards career center recommends . stand crowd high quality content \\\\ nand clearly written , error - free document . sequence information important least important \\\\ nregard career objective . constructing bullet points , aim highlight accomplishments exemplify \\\\ nthe skills possess employers seeking .\\\\ n \\\\ xef \\\\ x81 \\\\ xb6 length : rare exceptions , applying internships entry - level jobs , students \\\\ nkeep resume 1 page . difficulty narrowing resume , consider removing \\\\ nelements closely related opportunities applying .\\\\ n \\\\ xef \\\\ x81 \\\\ xb6 margins : make resume visually attractive . use whitespace allow reader \\\\ xe2 \\\\ x80 \\\\ x99s eye rest .\\\\ nusing . 5 inch 1 . 5 inch margins recommended .\\\\ n \\\\ xef \\\\ x81 \\\\ xb6 font : use font easy read . times new roman , arial , courier new good choices . \\\\ n10 - 12 point font size recommended .\\\\ n \\\\ xef \\\\ x81 \\\\ xb6 consistency : keep formatting consistent throughout resume . example , choose bold \\\\ na job title , make sure bold every job title . also , make sure bullet points , section headers ,\\\\ ndates , etc . line neatly page .\\\\ n \\\\ xef \\\\ x81 \\\\ xb6 accuracy : resume , job search materials , must 100 % error free . sure carefully \\\\ nread resume , checking grammar , spelling , punctuation . good idea least \\\\ n2 - 3 people proofread well .\\\\ n \\\\ xef \\\\ x81 \\\\ xb6 accomplishment - orientated : employers hire skills want read times \\\\ nyou successfully utilized skills seeking . describe achievements , rather listing duties ,\\\\ nquantify outcomes whenever possible , sure highlight proficiency technical ( industry \\\\ job function - specific ) transferable skills .\\\\ n \\\\ xef \\\\ x81 \\\\ xb6 use action verbs : strengthen bullet points beginning action verb previews \\\\ nskill exemplified accomplishment statement . allows potential employer easily \\\\ nscan resume seeking .\\\\ n \\\\ xef \\\\ x81 \\\\ xb6 make clear succinct : eliminate pronoun \\\\ xe2 \\\\ x80 \\\\ x9ci \\\\ xe2 \\\\ x80 \\\\ x9d beginning bullet point \\\\ nassumed . avoid introductory wind - phrases \\\\ xe2 \\\\ x80 \\\\ x9cmy duties included ...\\\\ xe2 \\\\ x80 \\\\ x9d \\\\ xe2 \\\\ x80 \\\\ x9cmy responsibilities \\\\ nwere \\\\ xe2 \\\\ x80 \\\\ xa6 \\\\ xe2 \\\\ x80 \\\\ x9d \\\\ n \\\\ xef \\\\ x81 \\\\ xb6 overall appearance : ask others document easy read professional looking .\\\\ nalso , consider average recruiter may scan resume 30 seconds less . make sure \\\\ nmost important information stands .\\\\ n \\\\ n3 \\\\ n \\\\ n \\\\ x0cii . key elements successful resume \\\\ nyour first last name \\\\ n \\\\ xe2 \\\\ x99 \\\\ xa6 phone number \\\\ xe2 \\\\ x99 \\\\ xa6 email address \\\\ xe2 \\\\ x99 \\\\ xa6 street address \\\\ xe2 \\\\ x99 \\\\ xa6 city , state & zip code \\\\ xe2 \\\\ x99 \\\\ xa6 \\\\ n_______________________________________________________________________________________________________ \\\\ nobjective \\\\ ncreate statement describing naming position seeking obtain . may also include specific field area \\\\ nyou interested skills expertise could contribute company . section optional could \\\\ nomitted substituted \\\\ xe2 \\\\ x80 \\\\ x95career highlights \\\\ xe2 \\\\ x80 \\\\ x96 \\\\ xe2 \\\\ x80 \\\\ x95summary qualifications \\\\ xe2 \\\\ x80 \\\\ x96 section .\\\\ n_______________________________________________________________________________________________________ \\\\ neducation \\\\ ninstitution city , state \\\\ n ( expected ) graduation month year \\\\ nwrite full name ( expected ) degree ; also list minors concentrations \\\\ ngpa : 4 . 0 / 4 . 0 ( recommended include gpa 3 . 0 higher )\\\\ nother possible information include : study abroad experiences , relevant coursework , academic awards honors .\\\\ n_______________________________________________________________________________________________________ \\\\ nexperience , relevant experience , internship experience [ possible titles / descriptive headings ]\\\\ norganization , job title \\\\ xe2 \\\\ x80 \\\\ x93 city , state \\\\ nmonth year - month year \\\\ nthe position header one example formatting . formats include using two lines rearranging order \\\\ nthe organization , job title , location , dates emphasize important elements .\\\\ nyou bold italicize title organization \\\\ xe2 \\\\ x80 \\\\ x94whichever relevant , consistent .\\\\ nin section include bulleted accomplishment statements , provide examples times successfully used \\\\ nskills employers seeking .\\\\ nstart strong action verb , follow explanation , describe , , \\\\ npossible , include outcomes achieved . remember , statements ultimately convey proficiency one \\\\ nmore skill sets interest employer way providing example used .\\\\ nconsider following questions help create effective bullet points : result / outcome work ?\\\\ nwhat accomplishments ? help organization ? skills / knowledge enhance ? \\\\ nthis experience relate internship / employment goal ?\\\\ norganization , job title \\\\ xe2 \\\\ x80 \\\\ x93 city , state \\\\ nmonth year - month year \\\\ nbulleted statements proper tense ( past present tense ) use consistent grammar punctuation .\\\\ nbe specific including quantity , frequency , population , impact work whenever possible .\\\\ nmake sure resume easy read text heavy . avoid using colors , multiple fonts , pictures , brief , \\\\ nmaking dense . make , professional .\\\\ n_______________________________________________________________________________________________________ \\\\ nadditional experience , leadership , honors , activities , community service , volunteer ,\\\\ nprofessional development [ possible titles / descriptive headings ]\\\\ norganization , job title \\\\ xe2 \\\\ x80 \\\\ x93 city , state \\\\ nmonth year - month year \\\\ nusing multiple experience sections optional allows emphasize ( placing closer top ) relevant \\\\ nexperience . experiences within section listed reverse chronological order .\\\\ npositions within section formatted like previous experience sections , may may include bullet points .\\\\ nin additional experience section , include work experiences may directly related job \\\\ napplying , add credibility exemplifying progressive work history .\\\\ nemphasize transferable skills , taken one experience applied elsewhere .\\\\ norganization , role ( e . g . member , participant , honoree , presenter ) \\\\ xe2 \\\\ x80 \\\\ x93 city , state month year - month year \\\\ nthis section also opportunity share experiences leader , honors received , community involvement ,\\\\ nprofessional development activities , membership organizations . illustrated , replace \\\\ xe2 \\\\ x80 \\\\ x95job title \\\\ xe2 \\\\ x80 \\\\ x96 role played .\\\\ nincluding bullet points optional , depending wish convey potential employer .\\\\ n_______________________________________________________________________________________________________ \\\\ nadditional skills [ list skills testable concrete . soft skills communication , organizational , \\\\ ninterpersonal skills listed , rather incorporated bulleted accomplishment statements .]\\\\ ntechnology : try include programs would assumed based education include proficiency level . \\\\ nexample : advanced user microsoft office suite , including outlook , excel , powerpoint , well adobe photoshop .\\\\ nlanguages : example : proficient oral written german ; beginner knowledge spanish .\\\\ n \\\\ n4 \\\\ n \\\\ n \\\\ x0ciii . transferable skills & action verbs \\\\ ntransferable skills \\\\ ntransferable skills applied multiple work settings . consider incorporating , addition \\\\ nthat specific intended career field , providing examples successfully used \\\\ nbulleted accomplishment statements . examples transferable skills include following :\\\\ nclerical \\\\ nbookkeeping \\\\ nclassifying \\\\ ncollecting \\\\ ncompiling \\\\ ncomputing \\\\ nexamining \\\\ nfiling \\\\ norganizing \\\\ nrecording \\\\ nword processing \\\\ n \\\\ ncreative \\\\ ndesigning \\\\ ndeveloping \\\\ nestablishing \\\\ nillustrating \\\\ nimagining \\\\ nimprovising \\\\ ninventing \\\\ nperforming \\\\ nrevitalizing \\\\ nvisualizing \\\\ n \\\\ nhuman relations \\\\ nadvising \\\\ nassisting \\\\ ncounseling \\\\ nempathizing \\\\ nfacilitating \\\\ nguiding \\\\ nlistening \\\\ nmotivating \\\\ nrepresenting \\\\ nserving \\\\ n \\\\ npublic relations \\\\ nconducting \\\\ nconsulting \\\\ ninforming \\\\ nplanning \\\\ npresenting \\\\ npromoting \\\\ nrepresenting \\\\ nresponding \\\\ nresearching \\\\ nwriting \\\\ n \\\\ nresearch \\\\ nassessing \\\\ ncalculating \\\\ ncollecting \\\\ ndiagnosing \\\\ nevaluating \\\\ nexamining \\\\ nextrapolating \\\\ ninterviewing \\\\ ninvestigating \\\\ nsynthesizing \\\\ n \\\\ ncommunication \\\\ nediting \\\\ nexplaining \\\\ ninfluencing \\\\ ninterpreting \\\\ nlistening \\\\ nmediating \\\\ npromoting \\\\ nspeaking \\\\ ntranslating \\\\ nwriting \\\\ n \\\\ nfinancial \\\\ naccounting \\\\ nadministering \\\\ nallocating \\\\ nauditing \\\\ nbalancing \\\\ ncalculating \\\\ nforecasting \\\\ ninvesting \\\\ nprojecting \\\\ n \\\\ nmanagement \\\\ ncommunicating \\\\ nconsulting \\\\ ncoordinating \\\\ ndelegating \\\\ ndirecting \\\\ nevaluating \\\\ nleading \\\\ nnegotiating \\\\ npersuading \\\\ nplanning \\\\ n \\\\ nproblem solving \\\\ nanalyzing \\\\ nappraising \\\\ ndiagnosing \\\\ nexamining \\\\ nexecuting \\\\ nplanning \\\\ nproving \\\\ nreasoning \\\\ nrecognizing \\\\ nvalidating \\\\ n \\\\ ntechnical \\\\ nadjusting \\\\ naligning \\\\ nassembling \\\\ ndrafting \\\\ nengineering \\\\ ninstalling \\\\ nobserving \\\\ noperating \\\\ nprogramming \\\\ nrepairing \\\\ n \\\\ ntraining \\\\ nadapting \\\\ ncommunicating \\\\ ndemonstrating \\\\ nenabling \\\\ nencouraging \\\\ nevaluating \\\\ nexplaining \\\\ ninstructing \\\\ nplanning \\\\ nstimulating \\\\ n \\\\ naction verbs \\\\ nbeginning bulleted accomplishment statement strong action verb helps highlight successes allows \\\\ nreader get sense skills scanning page prior reading individual bullet point . good idea vary \\\\ nthe action verbs resume order appeal different audiences . list verbs help get started .\\\\ na \\\\ nachieved \\\\ nacted \\\\ nadapted \\\\ nadjusted \\\\ nadministered \\\\ nadvanced \\\\ nadvised \\\\ naltered \\\\ nanalyzed \\\\ nappraised \\\\ narranged \\\\ nassembled \\\\ nassessed \\\\ naudited \\\\ nb \\\\ nbalanced \\\\ nbudgeted \\\\ nbuilt \\\\ nc \\\\ ncalculated \\\\ ncalibrated \\\\ ncategorized \\\\ ncharted \\\\ nclassified \\\\ ncoached \\\\ ncollected \\\\ ncombined \\\\ ncommunicated \\\\ ncompiled \\\\ ncomposed \\\\ ncomputed \\\\ nconducted \\\\ nconfigured \\\\ nconsolidated \\\\ nconstructed \\\\ n \\\\ nconsulted \\\\ ncontrasted \\\\ ncontrolled \\\\ nconverted \\\\ nconvinced \\\\ ncoordinated \\\\ ncounseled \\\\ ncounted \\\\ ncreated \\\\ ncultivated \\\\ nd \\\\ ndecided \\\\ ndecreased \\\\ ndefined \\\\ ndelivered \\\\ ndemonstrated \\\\ ndesigned \\\\ ndetected \\\\ ndetermined \\\\ ndeveloped \\\\ ndevised \\\\ ndiagnosed \\\\ ndifferentiated \\\\ ndistributed \\\\ ndocumented \\\\ ndoubled \\\\ ndrafted \\\\ ne \\\\ nedited \\\\ neliminated \\\\ nencouraged \\\\ nengineered \\\\ nenhanced \\\\ nensured \\\\ nestablished \\\\ nestimated \\\\ n \\\\ nevaluated \\\\ nexamined \\\\ nexecuted \\\\ nexpanded \\\\ nexpedited \\\\ nf \\\\ nfacilitated \\\\ nfiled \\\\ nfilled \\\\ nforecasted \\\\ nformulated \\\\ nfostered \\\\ nfulfilled \\\\ ng \\\\ ngained \\\\ ngathered \\\\ ngenerated \\\\ ngrew \\\\ nguided \\\\ nh \\\\ nhandled \\\\ nheaded \\\\ nhired \\\\ ni \\\\ nidentified \\\\ nillustrated \\\\ nimplemented \\\\ nimproved \\\\ nincreased \\\\ ninfluenced \\\\ ninformed \\\\ ninitiated \\\\ ninspected \\\\ ninstalled \\\\ ninstituted \\\\ ninstructed \\\\ n \\\\ nintegrated \\\\ nintended \\\\ ninterviewed \\\\ ninvented \\\\ ninvestigated \\\\ nl \\\\ nlaunched \\\\ nlectured \\\\ nled \\\\ nliaised \\\\ nlogged \\\\ nm \\\\ nmaintained \\\\ nmanaged \\\\ nmanufactured \\\\ nmarketed \\\\ nmeasured \\\\ nmediated \\\\ nmentored \\\\ nmigrated \\\\ nminimized \\\\ nmonitored \\\\ nmotivated \\\\ nn \\\\ nnegotiated \\\\ \\\\ nobtained \\\\ noperated \\\\ norchestrated \\\\ nordered \\\\ norganized \\\\ noriginated \\\\ noversaw \\\\ np \\\\ nperformed \\\\ npersuaded \\\\ n \\\\ nplanned \\\\ nposted \\\\ nprepared \\\\ nprescribed \\\\ npresented \\\\ npriced \\\\ nprocessed \\\\ nproduced \\\\ npromoted \\\\ nproposed \\\\ nprotected \\\\ nprovided \\\\ npurchased \\\\ nr \\\\ nrealized \\\\ nreceived \\\\ nrecommended \\\\ nreconciled \\\\ nrecorded \\\\ nrecruited \\\\ nredesigned \\\\ nreduced \\\\ nreferred \\\\ nremoved \\\\ nreorganized \\\\ nrepaired \\\\ nreported \\\\ nrepresented \\\\ nresearched \\\\ nresolved \\\\ nrestructured \\\\ nrevamped \\\\ nreviewed \\\\ nrevised \\\\ nrevitalized \\\\ nrouted \\\\ n \\\\ ns \\\\ nscheduled \\\\ nselected \\\\ nseparated \\\\ nserved \\\\ nserviced \\\\ nset \\\\ nsimplified \\\\ nsold \\\\ nsolved \\\\ nspecified \\\\ nstarted \\\\ nstrategized \\\\ nstreamlined \\\\ nstrengthened \\\\ nstudied \\\\ nsummarized \\\\ nsupervised \\\\ nsupplied \\\\ nsupported \\\\ nt \\\\ ntested \\\\ ntracked \\\\ ntrained \\\\ ntransformed \\\\ ntranslated \\\\ ntroubleshot \\\\ nu \\\\ nupdated \\\\ nupgraded \\\\ nv \\\\ nverified \\\\ nw \\\\ nweighed \\\\ nwired \\\\ nwon \\\\ n \\\\ n5 \\\\ n \\\\ n \\\\ x0civ . chronological resume samples \\\\ nsample 1 : chronological resume \\\\ n \\\\ nmin nguyen \\\\ nmnguyen @ hotmail . com \\\\ npermanent address :\\\\ n1515 howard street \\\\ natlanta , ga 30342 \\\\ n ( 404 ) 555 - 5555 \\\\ neducation \\\\ n \\\\ ndepaul university , chicago , il \\\\ nbachelor arts public relations advertising \\\\ nexpected june 2012 \\\\ ng . p . . 3 . 3 / 4 . 0 \\\\ nacademic honors : dean \\\\ xe2 \\\\ x80 \\\\ x99s list quarters attendance \\\\ ngolden key international \\\\ n \\\\ ncoursework advertising campaigns \\\\ nadvertising media planning \\\\ nexperience \\\\ n \\\\ ncurrent address :\\\\ n2500 north kenmore # 2 \\\\ nchicago , il 60614 \\\\ n ( 312 ) 555 - 5555 \\\\ n \\\\ nhealthcare public relations \\\\ ncrisis communication \\\\ n \\\\ ndepaul student government , chicago , il \\\\ n2008 \\\\ xe2 \\\\ x80 \\\\ x93 present \\\\ nadvertising staff \\\\ nassist production independent commercial documentary films .\\\\ ncoordinate media relations arrange promotional events .\\\\ ncollaborate marketing creative staff press releases , space ads ,\\\\ nposters , dealer promotions .\\\\ nirvin smith , inc ., atlanta , ga \\\\ nsummers 2008 , 2009 \\\\ nadministrative assistant \\\\ nresearched new market opportunities investigating identifying potential \\\\ ncustomers competitors .\\\\ nprovided status reports management operations activities weekly \\\\ nbasis .\\\\ nworked advertising , sales , technical groups develop brochures \\\\ ntrade show displays .\\\\ narranged employee travel conventions conferences .\\\\ n \\\\ nleadership \\\\ n \\\\ nskills \\\\ n \\\\ ndepaul university , chicago , il \\\\ n2009 \\\\ xe2 \\\\ x80 \\\\ x93 present \\\\ nfreshman orientation leader \\\\ nfamiliarize students campus support services facilitate tours \\\\ ndepaul \\\\ xe2 \\\\ x80 \\\\ x99s campus \\\\ ndepaul university accounting club , chicago , il \\\\ ntreasurer \\\\ n \\\\ n2009 \\\\ xe2 \\\\ x80 \\\\ x93 present \\\\ n \\\\ nstudent newspaper \\\\ nstaff writer \\\\ n \\\\ n2008 \\\\ xe2 \\\\ x80 \\\\ x93 2010 \\\\ n \\\\ nlanguage : conversational spanish \\\\ ncomputer : proficient microsoft office , including word , excel , powerpoint \\\\ n6 \\\\ n \\\\ n \\\\ x0csample 2 : chronological resume \\\\ n \\\\ nmartha smith martha . smith @ hotmail . com \\\\ n2425 n . sheffield , apt # 602 ~ chicago , il 60614 ~ ( 773 ) 555 \\\\ xe2 \\\\ x80 \\\\ x935555 \\\\ n \\\\ nobjective \\\\ n \\\\ nto obtain internship marketing communications contribute \\\\ ninterpersonal , writing , time management skills .\\\\ n \\\\ neducation \\\\ n \\\\ ndepaul university , chicago , il \\\\ nbachelor arts english , june 2011 \\\\ nminor japanese studies \\\\ ng . p . . 3 . 4 / 4 . 0 \\\\ nritsumeikan university , kyoto , japan \\\\ nstudy abroad program , winter quarter 2010 \\\\ n \\\\ nexperience \\\\ n \\\\ ncna insurance company , chicago , il \\\\ njuly 2009 \\\\ xe2 \\\\ x80 \\\\ x93 present \\\\ nmarketing support clerk \\\\ n \\\\ xef \\\\ x82 \\\\ xa7 conduct average 50 - 75 telephone interviews per week customers target \\\\ nmarkets .\\\\ n \\\\ xef \\\\ x82 \\\\ xa7 collect analyze quantitative qualitative research data using internet databases ,\\\\ nprescribed interviewing techniques , spss .\\\\ n \\\\ xef \\\\ x82 \\\\ xa7 draft marketing materials included new publications .\\\\ nmcdermott , & emery law firm , chicago , il \\\\ nmay 2008 \\\\ xe2 \\\\ x80 \\\\ x93 june 2009 \\\\ nreceptionist \\\\ n \\\\ xef \\\\ x82 \\\\ xa7 directed incoming calls 40 - line switchboard .\\\\ n \\\\ xef \\\\ x82 \\\\ xa7 greeted clients instructed fill appropriate paperwork .\\\\ n \\\\ xef \\\\ x82 \\\\ xa7 organized aspects luncheon law firm \\\\ xe2 \\\\ x80 \\\\ x99s attorneys clients .\\\\ n \\\\ xef \\\\ x82 \\\\ xa7 created maintained electronic filing system , enabling users access scanned \\\\ ndocuments remotely .\\\\ nmacy \\\\ xe2 \\\\ x80 \\\\ x99s department store , chicago , il \\\\ nseasonal 2007 & 2008 \\\\ nsales associate \\\\ n \\\\ xef \\\\ x82 \\\\ xa7 assisted advised customers purchases various merchandise .\\\\ n \\\\ xef \\\\ x82 \\\\ xa7 dealt customer inquiries complaints polite efficient manner .\\\\ n \\\\ xef \\\\ x82 \\\\ xa7 executed special customer orders via telephone , email , fax .\\\\ n \\\\ nactivities \\\\ n \\\\ ndepaul ambassador club , member \\\\ nstudent advisory board , member \\\\ nmarketing club member , special events coordinator \\\\ nalpha kappa alpha sorority , member \\\\ n \\\\ nskills \\\\ n \\\\ nproficient windows , word , excel , outlook , spss \\\\ nfunctional powerpoint \\\\ nfluent verbal written japanese \\\\ n \\\\ n2008 \\\\ xe2 \\\\ x80 \\\\ x93 present \\\\ n2008 \\\\ xe2 \\\\ x80 \\\\ x93 present \\\\ n2008 \\\\ xe2 \\\\ x80 \\\\ x93 present \\\\ n2007 \\\\ xe2 \\\\ x80 \\\\ x93 present \\\\ n \\\\ n7 \\\\ n \\\\ n \\\\ x0csample 3 : chronological resume \\\\ n \\\\ nhector gonzales \\\\ n123 software way \\\\ n312 - 555 - 5555 \\\\ nchicago , il 60000 \\\\ nhgonzales @ email . com \\\\ n__________________________________________________________________________________________________________ \\\\ n \\\\ nobjective : obtain part - time internship position contribute 1 + years experience \\\\ neducation , well collaboration communication skills .\\\\ neducation :\\\\ nbachelor science computer science , depaul university , chicago , il \\\\ ncumulative gpa : 3 . 0 / 4 . 0 ; major gpa : 3 . 6 / 4 . 0 \\\\ n \\\\ nexpected june 2011 \\\\ n \\\\ ntechnical summary :\\\\ nlanguages : c ++, visual basic , cobol , java , html , javascript \\\\ nsoftware : word , excel , powerpoint , wordperfect , front page \\\\ noperating systems : windows , unix , dos \\\\ ndatabases : access , sql \\\\ ncourse projects :\\\\ nsystem analysis design \\\\ nwinter 2010 \\\\ nproduction control project \\\\ n \\\\ xef \\\\ x82 \\\\ xa7 led team five students designing , coding implementing sql database .\\\\ n \\\\ xef \\\\ x82 \\\\ xa7 entered updated information using search engine robot .\\\\ n \\\\ xef \\\\ x82 \\\\ xa7 completed analysis designed documentation data flow diagrams , structure charts , process \\\\ nspecifications , data - dictionary user manual .\\\\ ne - commerce \\\\ nsummer 2009 \\\\ nwebsite design project \\\\ n \\\\ xef \\\\ x82 \\\\ xa7 designed personal web site using html ; viewable www . hgonzales1 . depaul . edu .\\\\ nrelated experience :\\\\ ndigiworld , chicago , il \\\\ nmay 2008 \\\\ xe2 \\\\ x80 \\\\ x93 present \\\\ ndatabase intern \\\\ n \\\\ xef \\\\ x82 \\\\ xa7 maintain 1000 customer records company \\\\ xe2 \\\\ x80 \\\\ x99s access database .\\\\ n \\\\ xef \\\\ x82 \\\\ xa7 update website information new events services utilizing front page .\\\\ n \\\\ xef \\\\ x82 \\\\ xa7 process online subscriptions , activating new subscriber accounts creating usernames passwords .\\\\ ndepaul university , chicago , il \\\\ noctober 2007 \\\\ xe2 \\\\ x80 \\\\ x93 july 2008 \\\\ nlab assistant \\\\ n \\\\ xef \\\\ x82 \\\\ xa7 provided technical support students lab 150 workstations .\\\\ n \\\\ xef \\\\ x82 \\\\ xa7 performed troubleshooting problem - solving hardware software issues .\\\\ nadditional experience :\\\\ ngeneral office company , naperville , il \\\\ nclerk \\\\ n \\\\ xef \\\\ x82 \\\\ xa7 coordinated scheduling events meetings multiple departments .\\\\ n \\\\ xef \\\\ x82 \\\\ xa7 distributed newsletters correspondence constituents .\\\\ n \\\\ naugust 2007 \\\\ xe2 \\\\ x80 \\\\ x93 may 2009 \\\\ n \\\\ nactivities :\\\\ n \\\\ xef \\\\ x82 \\\\ xa7 member , computer science society ( acm student chapter )\\\\ n \\\\ xef \\\\ x82 \\\\ xa7 secretary , student government association \\\\ n \\\\ xef \\\\ x82 \\\\ xa7 member , golden key honor society \\\\ n \\\\ nseptember 2009 \\\\ xe2 \\\\ x80 \\\\ x93 present \\\\ ndecember 2008 \\\\ xe2 \\\\ x80 \\\\ x93 present \\\\ nmay 2009 \\\\ xe2 \\\\ x80 \\\\ x93 present \\\\ n \\\\ n8 \\\\ n \\\\ n \\\\ x0csample 4 : chronological resume \\\\ n \\\\ nlaura jackson \\\\ n \\\\ n_________________________________________________________________ \\\\ n1005 west george , # 2 chicago , il 60657 \\\\ n \\\\ ndepaul university , chicago , il \\\\ nbachelor science marketing , june 2007 \\\\ nminor sociology \\\\ ng . p . . 3 . 1 / 4 . 0 \\\\ n \\\\ nljackson @ depaul . edu \\\\ n \\\\ n ( 773 ) 555 - 5555 \\\\ n \\\\ neducation \\\\ n \\\\ nexperience \\\\ nusa track & field , indianapolis , \\\\ ncommunication / media intern , summer 2006 \\\\ ncoordinated communications usa track field publications , internet production , \\\\ ninformation distribution teams .\\\\ ncontributed writing , editing , distribution press releases .\\\\ nfacilitated daily press department mailings .\\\\ ngenerated database usa track field hall fame grand opening .\\\\ nupdated athletes \\\\ xe2 \\\\ x80 \\\\ x99 online biographies every track meet .\\\\ nassisted promotions department participating - location promotional events \\\\ nprogramming activities .\\\\ ndepaul university , chicago , il \\\\ nnursing learning resource center assistant , august 2004 \\\\ xe2 \\\\ x80 \\\\ x93 january 2006 \\\\ nprovided nursing students research advice service regarding nursing center , media library , \\\\ nlab resources .\\\\ nacquired maintained knowledge nursing curriculum , prerequisites , nursing - related \\\\ ncourse work order advise current students promote program prospective students .\\\\ nissued audiovisual materials , reference books , reserve materials , clinical equipment .\\\\ nanswered phones department directed students appropriate resources .\\\\ nattended opening closing duties , prepping computer lab , preparing reserve items \\\\ nstudents , checking messages , locking .\\\\ nactivities & leadership \\\\ nalpha kappa alpha sorority , member , january 2006 \\\\ xe2 \\\\ x80 \\\\ x93 present \\\\ nfacilitate support fundraising efforts marketing emails , flyers , social media websites \\\\ nfor philanthropic community service efforts .\\\\ ndepaul ambassador club , senior member , september 2006 \\\\ xe2 \\\\ x80 \\\\ x93 present \\\\ nprovided tours campus prospective students families .\\\\ ntrained six new ambassadors delivering campus tours overnight visit protocol .\\\\ ndepaul marketing club , vice president , september 2005 \\\\ xe2 \\\\ x80 \\\\ x93 march 2007 \\\\ nrecruited members co - led club \\\\ xe2 \\\\ x80 \\\\ x99s annual fundraising drive .\\\\ n \\\\ n9 \\\\ n \\\\ n \\\\ x0csample 5 : chronological resume \\\\ n \\\\ nnicole anderson \\\\ n456 bellfour drive lincolnwood , il 60654 \\\\ n ( 773 ) 555 - 5555 nanderso @ students . depaul . edu \\\\ n \\\\ nsummary qualifications \\\\ nfour years progressive experience communications , media , public relations \\\\ ngraduate level education public relations advertising coursework theory , integrated \\\\ ncampaigns , strategic planning \\\\ nhighly motivated professional understanding new media \\\\ xe2 \\\\ x80 \\\\ x99s role public relations \\\\ neducation \\\\ ndepaul university , chicago , il \\\\ nmaster arts public relations advertising , december 2010 \\\\ nsouth university , kansas city , mo \\\\ nbachelor arts management , june 2007 \\\\ nrelated experience \\\\ npublic relations assistant \\\\ nfox chicago news , chicago il , 2008 \\\\ xe2 \\\\ x80 \\\\ x93 2009 \\\\ nprepared edited press releases promote upcoming events convey highlights recent \\\\ nhappenings \\\\ ncreated organizational publications internal external audiences , including employee newsletters \\\\ nassisted planning execution promotional events , including \\\\ xe2 \\\\ x80 \\\\ x95flash mob \\\\ xe2 \\\\ x80 \\\\ x96 50 \\\\ nparticipants \\\\ narranged public appearances , lectures , contests , exhibits fox chicago news personalities \\\\ nspecial report intern \\\\ nreal life news , anye , ny , 2007 \\\\ xe2 \\\\ x80 \\\\ x93 2008 \\\\ ninvestigated proposed opportunities incorporate new media organization \\\\ xe2 \\\\ x80 \\\\ x99s strategic \\\\ ncommunications plan \\\\ ndeveloped marketed organization \\\\ xe2 \\\\ x80 \\\\ x99s facebook fan page , gaining 1 , 500 fans first six \\\\ nweeks \\\\ ncollected analyzed data , consulted industry experts , provided reporters premise \\\\ nsources stories consistently ahead schedule \\\\ nadditional experience \\\\ ncustomer service associate \\\\ nmarshall company , chicago , il , 2006 \\\\ xe2 \\\\ x80 \\\\ x93 present \\\\ nserve customers making various payment transactions \\\\ nprocess cash advances quickly accurately employees , resulting honored employee \\\\ nthe month three times \\\\ nbalance cash receipts previous day compiled daily report auditing department ,\\\\ neliminating need second shift employee , saving company $ 2000 per month \\\\ nhonors & activities \\\\ ngolden key honor society member , 2008 \\\\ namoco scholarship recipient , 2008 \\\\ nmarketing club secretary , 2007 \\\\ xe2 \\\\ x80 \\\\ x93 present \\\\ n10 \\\\ n \\\\ n \\\\ x0csample 6 : chronological resume \\\\ n \\\\ ndouglas noth \\\\ ndougnoth . 23 @ gmail . com ( 312 ) 555 - 1111 \\\\ nonline portfolio viewable : www . doug . noth . portfolio . com \\\\ ncareer highlights \\\\ n \\\\ xef \\\\ x82 \\\\ xa7 \\\\ n \\\\ xef \\\\ x82 \\\\ xa7 \\\\ n \\\\ xef \\\\ x82 \\\\ xa7 \\\\ n \\\\ xef \\\\ x82 \\\\ xa7 \\\\ n \\\\ n2 years experience producing , directing , editing videos , specifically documentaries \\\\ ncompleted atlantis dual degree study abroad program france sweden \\\\ nover 8 years experience community service , including fundraising , event advocacy planning \\\\ nproven skills organizing , implementing , working diverse team members \\\\ n \\\\ neducation \\\\ natlantis dual degree study abroad program , june 2009 \\\\ nb . . digital cinema , depaul university , chicago , il \\\\ nb . . business administration , linkoping university , linkoping , sweden \\\\ nrelevant experience \\\\ ndirector / producer : atlantis documentary , chicago , il , january 2009 - present \\\\ n \\\\ xef \\\\ x82 \\\\ xa7 produce direct documentary atlantis study abroad program promote dual degree programs \\\\ nthrough depaul affiliate universities abroad .\\\\ n \\\\ xef \\\\ x82 \\\\ xa7 travel france sweden coordinate conduct interviews university presidents , directors \\\\ nstudents .\\\\ nco - producer / camera operator : rafiki collaborative documentary , kenya / chicago , il , november 2008 - present \\\\ n \\\\ xef \\\\ x82 \\\\ xa7 traveled kenya film 15 - minute documentary , portrayed cultural structural issues surrounding \\\\ nhiv aids .\\\\ n \\\\ xef \\\\ x82 \\\\ xa7 developed interviewing skills conducting 11 interviews local community leaders .\\\\ nassistant producer ( internship ): richter studios , chicago , il , september 2008 - present \\\\ n \\\\ xef \\\\ x82 \\\\ xa7 assist producer various pre - production activities , including location scouting shoot planning .\\\\ nco - director / co - producer : voices documentary , chicago , il , january 2009 - june 2009 \\\\ n \\\\ xef \\\\ x82 \\\\ xa7 commissioned depaul community service organization create 20 - minute documentary social \\\\ njustice campus shown incoming freshman elsewhere campus encourage student \\\\ ninvolvement .\\\\ nfeatured extra : universal studios , chicago , il , may 2007 \\\\ n \\\\ xef \\\\ x82 \\\\ xa7 worked paid extra dennis quaid film , express , universal studios .\\\\ nacademic projects \\\\ nsound director : cheap seats movie project bluelight , chicago , il , august 2008 \\\\ n \\\\ xef \\\\ x82 \\\\ xa7 directed sound 30 - minute short written directed faculty member crew 20 students .\\\\ nproducer : ride music video , chicago , il , july 2007 \\\\ n \\\\ xef \\\\ x82 \\\\ xa7 produced 3 - minute music video local hip - hop artist dj crew 4 students .\\\\ nother experience \\\\ ndepaul community service association : senior team , chicago , il , august 2008 - current \\\\ nole lounge : bartender / server , chicago , il , august 2008 - january 2009 \\\\ ndepaul university : resident advisor , chicago , il , august 2006 - june 2007 \\\\ ncommunity service honors \\\\ nbest buddies e - buddy , may 2007 - july 2008 \\\\ ndepaul community service coordinator , april 2006 - march 2007 \\\\ ndepaul aids project volunteer , january 2005 - 2007 \\\\ nspecial olympics volunteer , may 2006 \\\\ n \\\\ n11 \\\\ n \\\\ n \\\\ x0cv . functional & combination resume samples \\\\ nsample 7 : functional resume , career changer gap work history \\\\ n \\\\ ndominique harris \\\\ n2312 n . sheffield # 306 \\\\ nchicago , il 60614 \\\\ n ( 773 ) 555 - 5555 \\\\ ndharris2 @ depaul . edu \\\\ n \\\\ nobjective \\\\ n \\\\ nto obtain management position allow utilize proven interpersonal ,\\\\ norganizational , management skills \\\\ n \\\\ neducation \\\\ n \\\\ ndepaul university \\\\ nbachelor arts psychology , june 2011 \\\\ nminor management \\\\ ngpa : 3 . 2 / 4 . 0 \\\\ n \\\\ nhonors \\\\ n \\\\ ndean \\\\ xe2 \\\\ x80 \\\\ x99s list , quarters attendance \\\\ npsi chi , psychology honors society member , 2009 \\\\ xe2 \\\\ x80 \\\\ x93 present \\\\ npsychology club , alumni relations team leader , 2008 \\\\ xe2 \\\\ x80 \\\\ x93 present \\\\ ngolden key award recipient , 2008 \\\\ n \\\\ nchicago , il \\\\ n \\\\ nexperience \\\\ ninterpersonal \\\\ n \\\\ xef \\\\ x82 \\\\ xa7 \\\\ n \\\\ xef \\\\ x82 \\\\ xa7 \\\\ n \\\\ xef \\\\ x82 \\\\ xa7 \\\\ n \\\\ nfacilitated negotiation management employees resolve conflicts .\\\\ nprovided effective service listening customers meeting needs efficiently .\\\\ nutilized effective persuasive skills retail sales sway customers buy certain items .\\\\ n \\\\ n \\\\ xef \\\\ x82 \\\\ xa7 \\\\ n \\\\ xef \\\\ x82 \\\\ xa7 \\\\ n \\\\ xef \\\\ x82 \\\\ xa7 \\\\ n \\\\ nplanned organized store merchandise displays .\\\\ ndesigned developed merchandise system business course research project .\\\\ nrecognized supervisors detail - oriented office setting .\\\\ n \\\\ n \\\\ xef \\\\ x82 \\\\ xa7 \\\\ n \\\\ xef \\\\ x82 \\\\ xa7 \\\\ n \\\\ xef \\\\ x82 \\\\ xa7 \\\\ n \\\\ ntrained nine new employees effective sales techniques .\\\\ nsupervised various team building activities enhance working environment .\\\\ nserved store supervisor manager \\\\ xe2 \\\\ x80 \\\\ x99s absence .\\\\ n \\\\ norganizational \\\\ n \\\\ nmanagement \\\\ n \\\\ nwork history \\\\ ndepaul university , department psychology \\\\ nsecretary / receptionist , 2009 \\\\ xe2 \\\\ x80 \\\\ x93 present \\\\ n \\\\ nchicago , il \\\\ n \\\\ njcpenney company \\\\ nsales clerk / cashier , 1994 \\\\ xe2 \\\\ x80 \\\\ x93 1998 \\\\ n \\\\ nniles , il \\\\ n \\\\ nwalgreens \\\\ nassistant manager , 1992 \\\\ xe2 \\\\ x80 \\\\ x93 1994 \\\\ n \\\\ nchicago , il \\\\ n \\\\ n12 \\\\ n \\\\ n \\\\ x0csample 8 : combination resume , part - time internship position \\\\ n \\\\ nadita patel \\\\ n1235 turn arial , niles , il 12345 \\\\ n ( 123 ) 456 - 7890 \\\\ napatel @ msn . com \\\\ nobjective \\\\ nto secure part - time internship position area financial services order contribute skills \\\\ nanalysis , customer service , communication .\\\\ ncareer skills \\\\ nsupervised team three part - time employees processing auditing customers \\\\ xe2 \\\\ x80 \\\\ x99 special orders \\\\ nregular basis .\\\\ nprepared distributed online financial weekly reports .\\\\ nproven ability work diverse groups staff management .\\\\ neducation \\\\ ndepaul university , chicago , il \\\\ nexpected graduation \\\\ xe2 \\\\ x80 \\\\ x93 june 2012 \\\\ nbachelor science \\\\ xe2 \\\\ x80 \\\\ x93 finance \\\\ ndean \\\\ xe2 \\\\ x80 \\\\ x99s list \\\\ xe2 \\\\ x80 \\\\ x93 quarters attendance \\\\ nrelevant course work \\\\ nfinancial accounting \\\\ nfinancial management \\\\ n \\\\ nbusiness law \\\\ nbusiness statistic \\\\ n \\\\ nmoney banking \\\\ ncapital growth \\\\ n \\\\ nwork experience \\\\ nwarrenburg furniture , chicago , il \\\\ nclient service agent \\\\ napril 2009 \\\\ xe2 \\\\ x80 \\\\ x93 december 2010 \\\\ noversaw accounts receivable department small upscale local furniture manufacturer .\\\\ nlincoln bank & loan , niles , il \\\\ nfinancial services agent \\\\ njanuary 2006 \\\\ xe2 \\\\ x80 \\\\ x93 march 2008 \\\\ nserviced loan clients transactions loan applications personal savings accounts .\\\\ nprofessional development \\\\ ndepaul university mentor program , member , 2006 \\\\ xe2 \\\\ x80 \\\\ x93 present \\\\ nassist new college commerce students providing information university resources , study - related \\\\ nissues , academic planning , social events .\\\\ ndepaul university finance club , emerging leaders event committee chairperson , 2007 \\\\ xe2 \\\\ x80 \\\\ x93 present \\\\ n13 \\\\ n \\\\ n \\\\ x0cvi . additional career center resume resources \\\\ n \\\\ nthe career center offers several options getting help creating perfecting resume .\\\\ ntake advantage one following services available students alumni :\\\\ n \\\\ xef \\\\ x81 \\\\ xb6 peer career advising : peer career advisors specially trained provide resume \\\\ n \\\\ nassistance basic career services depaul community . peers available walk - \\\\ nbasis business hours via email peercareeradvisor @ depaul . edu questions ,\\\\ njob search advice , resume assistance , cover letter critiques .\\\\ n \\\\ n \\\\ xef \\\\ x81 \\\\ xb6 online tutorial resources : visit career center \\\\ xe2 \\\\ x80 \\\\ x99s website \\\\ n \\\\ nwww . careercenter . depaul . edu access interactive resume tutorial , instant message peer \\\\ ncareer advisor , access packet documents electronically .\\\\ n \\\\ n \\\\ xef \\\\ x81 \\\\ xb6 career advising : career advisors , specialize serving needs students \\\\ n \\\\ nalumni depaul \\\\ xe2 \\\\ x80 \\\\ x99s colleges , available meet appointment . advising \\\\ nsessions cover variety topics , including selecting major , advanced resume \\\\ ndevelopment , job search strategies , interviewing skills , career - related concerns .\\\\ ncontact career center schedule appointment career advisor inquire \\\\ npeer career advisor availability .\\\\ n \\\\ ndepaul university career center \\\\ ncontact information \\\\ nlincoln park campus \\\\ n2320 n kenmore ave , sac 192 \\\\ nchicago il , 60614 \\\\ n ( 773 )- 325 - 7431 \\\\ n \\\\ nloop campus \\\\ n1 e . jackson blvd , suite 9500 \\\\ nchicago il , 60604 \\\\ n ( 312 )- 362 - 8437 \\\\ n \\\\ n14 '\"],\n",
              "      dtype='<U79553')"
            ]
          },
          "metadata": {
            "tags": []
          },
          "execution_count": 6
        }
      ]
    },
    {
      "cell_type": "markdown",
      "metadata": {
        "id": "Dqa0GsUseuSA",
        "colab_type": "text"
      },
      "source": [
        "## Split our data here"
      ]
    },
    {
      "cell_type": "code",
      "metadata": {
        "id": "Uf3YNeTkCzE1",
        "colab_type": "code",
        "colab": {}
      },
      "source": [
        "# Split resume and category into training and test data\n",
        "\n",
        "from sklearn.model_selection import train_test_split\n",
        "X_train, X_test, y_train, y_test = train_test_split(resume_list, category_list, test_size = 0.2, random_state=0)"
      ],
      "execution_count": 0,
      "outputs": []
    },
    {
      "cell_type": "code",
      "metadata": {
        "id": "jKbhwMLeDB4b",
        "colab_type": "code",
        "outputId": "c6533299-a417-4ef1-86e4-0675bac412e8",
        "colab": {
          "base_uri": "https://localhost:8080/",
          "height": 34
        }
      },
      "source": [
        "len(X_train)\n",
        "len(y_train)"
      ],
      "execution_count": 0,
      "outputs": [
        {
          "output_type": "execute_result",
          "data": {
            "text/plain": [
              "964"
            ]
          },
          "metadata": {
            "tags": []
          },
          "execution_count": 8
        }
      ]
    },
    {
      "cell_type": "code",
      "metadata": {
        "id": "lyAy-qgizYyx",
        "colab_type": "code",
        "colab": {}
      },
      "source": [
        "from sklearn.preprocessing import LabelBinarizer, LabelEncoder\n",
        "from sklearn.metrics import confusion_matrix\n",
        "from keras import utils\n",
        "\n",
        "max_words = 1000\n",
        "tokenize = text.Tokenizer(num_words=max_words, char_level=False)\n",
        "tokenize.fit_on_texts(X_train) # only fit on train\n",
        "\n",
        "\n",
        "x_train = tokenize.texts_to_matrix(X_train)\n",
        "x_test = tokenize.texts_to_matrix(X_test)\n",
        "\n",
        "encoder = LabelEncoder()\n",
        "encoder.fit(y_train)\n",
        "y_train = encoder.transform(y_train)\n",
        "y_test = encoder.transform(y_test)\n",
        "\n",
        "num_classes = np.max(y_train) + 1\n",
        "y_train = utils.to_categorical(y_train, num_classes)\n",
        "y_test = utils.to_categorical(y_test, num_classes)\n",
        "\n",
        "batch_size = 32\n",
        "epochs = 30\n"
      ],
      "execution_count": 0,
      "outputs": []
    },
    {
      "cell_type": "markdown",
      "metadata": {
        "id": "6OnWKz03e_Wo",
        "colab_type": "text"
      },
      "source": [
        "## Bag of words model"
      ]
    },
    {
      "cell_type": "code",
      "metadata": {
        "id": "M9k2qvcx028e",
        "colab_type": "code",
        "outputId": "a614e0ad-fa2a-44ca-adaf-15275f6bf422",
        "colab": {
          "base_uri": "https://localhost:8080/",
          "height": 141
        }
      },
      "source": [
        "from tensorflow import keras\n",
        "from keras import optimizers\n",
        "from keras.models import Sequential\n",
        "from keras.layers import Dense, Activation, Dropout\n",
        "\n",
        "# Build the model\n",
        "model = Sequential()\n",
        "model.add(Dense(512, input_shape=(max_words,)))\n",
        "model.add(Activation('relu'))\n",
        "model.add(Dropout(0.5))\n",
        "model.add(Dense(num_classes))\n",
        "model.add(Activation('softmax'))\n",
        "\n",
        "model.compile(loss='categorical_crossentropy',\n",
        "              optimizer='adam',\n",
        "              metrics=['accuracy'])"
      ],
      "execution_count": 0,
      "outputs": [
        {
          "output_type": "stream",
          "text": [
            "WARNING:tensorflow:From /usr/local/lib/python3.6/dist-packages/tensorflow/python/framework/op_def_library.py:263: colocate_with (from tensorflow.python.framework.ops) is deprecated and will be removed in a future version.\n",
            "Instructions for updating:\n",
            "Colocations handled automatically by placer.\n",
            "WARNING:tensorflow:From /usr/local/lib/python3.6/dist-packages/keras/backend/tensorflow_backend.py:3445: calling dropout (from tensorflow.python.ops.nn_ops) with keep_prob is deprecated and will be removed in a future version.\n",
            "Instructions for updating:\n",
            "Please use `rate` instead of `keep_prob`. Rate should be set to `rate = 1 - keep_prob`.\n"
          ],
          "name": "stdout"
        }
      ]
    },
    {
      "cell_type": "code",
      "metadata": {
        "id": "Ejc1_aKE1G0M",
        "colab_type": "code",
        "outputId": "95cdf738-9c19-49a3-9a5d-ee4085afd610",
        "colab": {
          "base_uri": "https://localhost:8080/",
          "height": 1146
        }
      },
      "source": [
        "history = model.fit(x_train, y_train,\n",
        "                    batch_size=batch_size,\n",
        "                    epochs=epochs,\n",
        "                    verbose=1,\n",
        "                    validation_split=0.1)"
      ],
      "execution_count": 0,
      "outputs": [
        {
          "output_type": "stream",
          "text": [
            "WARNING:tensorflow:From /usr/local/lib/python3.6/dist-packages/tensorflow/python/ops/math_ops.py:3066: to_int32 (from tensorflow.python.ops.math_ops) is deprecated and will be removed in a future version.\n",
            "Instructions for updating:\n",
            "Use tf.cast instead.\n",
            "Train on 867 samples, validate on 97 samples\n",
            "Epoch 1/30\n",
            "867/867 [==============================] - 3s 4ms/step - loss: 2.8896 - acc: 0.2145 - val_loss: 2.5036 - val_acc: 0.3402\n",
            "Epoch 2/30\n",
            "867/867 [==============================] - 0s 171us/step - loss: 1.9156 - acc: 0.5386 - val_loss: 2.2006 - val_acc: 0.4433\n",
            "Epoch 3/30\n",
            "867/867 [==============================] - 0s 171us/step - loss: 1.3042 - acc: 0.7116 - val_loss: 1.9889 - val_acc: 0.5567\n",
            "Epoch 4/30\n",
            "867/867 [==============================] - 0s 170us/step - loss: 0.8911 - acc: 0.8351 - val_loss: 1.8661 - val_acc: 0.5258\n",
            "Epoch 5/30\n",
            "867/867 [==============================] - 0s 176us/step - loss: 0.6261 - acc: 0.8997 - val_loss: 1.7878 - val_acc: 0.5670\n",
            "Epoch 6/30\n",
            "867/867 [==============================] - 0s 172us/step - loss: 0.4777 - acc: 0.9296 - val_loss: 1.7767 - val_acc: 0.5670\n",
            "Epoch 7/30\n",
            "867/867 [==============================] - 0s 173us/step - loss: 0.3610 - acc: 0.9446 - val_loss: 1.8267 - val_acc: 0.6186\n",
            "Epoch 8/30\n",
            "867/867 [==============================] - 0s 178us/step - loss: 0.3031 - acc: 0.9516 - val_loss: 1.7858 - val_acc: 0.5670\n",
            "Epoch 9/30\n",
            "867/867 [==============================] - 0s 176us/step - loss: 0.2639 - acc: 0.9654 - val_loss: 1.7407 - val_acc: 0.5773\n",
            "Epoch 10/30\n",
            "867/867 [==============================] - 0s 181us/step - loss: 0.1999 - acc: 0.9689 - val_loss: 1.7934 - val_acc: 0.5876\n",
            "Epoch 11/30\n",
            "867/867 [==============================] - 0s 172us/step - loss: 0.1829 - acc: 0.9689 - val_loss: 1.7990 - val_acc: 0.5773\n",
            "Epoch 12/30\n",
            "867/867 [==============================] - 0s 186us/step - loss: 0.2968 - acc: 0.9458 - val_loss: 1.7485 - val_acc: 0.5670\n",
            "Epoch 13/30\n",
            "867/867 [==============================] - 0s 178us/step - loss: 0.2105 - acc: 0.9654 - val_loss: 1.8784 - val_acc: 0.5464\n",
            "Epoch 14/30\n",
            "867/867 [==============================] - 0s 179us/step - loss: 0.1715 - acc: 0.9746 - val_loss: 1.9199 - val_acc: 0.5567\n",
            "Epoch 15/30\n",
            "867/867 [==============================] - 0s 180us/step - loss: 0.1525 - acc: 0.9758 - val_loss: 1.9455 - val_acc: 0.5773\n",
            "Epoch 16/30\n",
            "867/867 [==============================] - 0s 175us/step - loss: 0.1706 - acc: 0.9677 - val_loss: 1.9751 - val_acc: 0.5464\n",
            "Epoch 17/30\n",
            "867/867 [==============================] - 0s 178us/step - loss: 0.1657 - acc: 0.9700 - val_loss: 1.9811 - val_acc: 0.5876\n",
            "Epoch 18/30\n",
            "867/867 [==============================] - 0s 172us/step - loss: 0.1997 - acc: 0.9654 - val_loss: 1.9080 - val_acc: 0.5464\n",
            "Epoch 19/30\n",
            "867/867 [==============================] - 0s 179us/step - loss: 0.1589 - acc: 0.9735 - val_loss: 1.9236 - val_acc: 0.5670\n",
            "Epoch 20/30\n",
            "867/867 [==============================] - 0s 169us/step - loss: 0.1275 - acc: 0.9758 - val_loss: 1.8857 - val_acc: 0.5567\n",
            "Epoch 21/30\n",
            "867/867 [==============================] - 0s 164us/step - loss: 0.1229 - acc: 0.9781 - val_loss: 1.9454 - val_acc: 0.5464\n",
            "Epoch 22/30\n",
            "867/867 [==============================] - 0s 168us/step - loss: 0.1503 - acc: 0.9700 - val_loss: 1.9569 - val_acc: 0.5567\n",
            "Epoch 23/30\n",
            "867/867 [==============================] - 0s 174us/step - loss: 0.1682 - acc: 0.9689 - val_loss: 1.9176 - val_acc: 0.5876\n",
            "Epoch 24/30\n",
            "867/867 [==============================] - 0s 175us/step - loss: 0.1646 - acc: 0.9712 - val_loss: 1.9551 - val_acc: 0.5670\n",
            "Epoch 25/30\n",
            "867/867 [==============================] - 0s 184us/step - loss: 0.1122 - acc: 0.9792 - val_loss: 1.9335 - val_acc: 0.5567\n",
            "Epoch 26/30\n",
            "867/867 [==============================] - 0s 170us/step - loss: 0.1943 - acc: 0.9712 - val_loss: 1.8861 - val_acc: 0.5361\n",
            "Epoch 27/30\n",
            "867/867 [==============================] - 0s 173us/step - loss: 0.1508 - acc: 0.9746 - val_loss: 2.0256 - val_acc: 0.5567\n",
            "Epoch 28/30\n",
            "867/867 [==============================] - 0s 173us/step - loss: 0.1549 - acc: 0.9746 - val_loss: 2.0192 - val_acc: 0.5567\n",
            "Epoch 29/30\n",
            "867/867 [==============================] - 0s 172us/step - loss: 0.1444 - acc: 0.9654 - val_loss: 1.9645 - val_acc: 0.5670\n",
            "Epoch 30/30\n",
            "867/867 [==============================] - 0s 173us/step - loss: 0.1544 - acc: 0.9735 - val_loss: 1.9260 - val_acc: 0.5773\n"
          ],
          "name": "stdout"
        }
      ]
    },
    {
      "cell_type": "code",
      "metadata": {
        "id": "Y3wG807v1nZ_",
        "colab_type": "code",
        "outputId": "2c4650fe-f9a6-4c17-b9af-74bcc2f402b1",
        "colab": {
          "base_uri": "https://localhost:8080/",
          "height": 52
        }
      },
      "source": [
        "score = model.evaluate(x_test, y_test,\n",
        "                       batch_size=batch_size, verbose=1)\n",
        "print('Test accuracy:', score[1])"
      ],
      "execution_count": 0,
      "outputs": [
        {
          "output_type": "stream",
          "text": [
            "242/242 [==============================] - 0s 93us/step\n",
            "Test accuracy: 0.6280991725685182\n"
          ],
          "name": "stdout"
        }
      ]
    },
    {
      "cell_type": "code",
      "metadata": {
        "id": "VrVOSiUY41ix",
        "colab_type": "code",
        "outputId": "9d54ee24-aa34-41f7-9609-6aa97ed5da5c",
        "colab": {
          "base_uri": "https://localhost:8080/",
          "height": 725
        }
      },
      "source": [
        "import matplotlib.pyplot as plt\n",
        "import matplotlib.image as mpimg\n",
        "\n",
        "# Retrieve a list of accuracy results on training and test data\n",
        "# sets for each training epoch\n",
        "acc = history.history['acc']\n",
        "val_acc = history.history['val_acc']\n",
        "\n",
        "# Retrieve a list of list results on training and test data\n",
        "# sets for each training epoch\n",
        "loss = history.history['loss']\n",
        "val_loss = history.history['val_loss']\n",
        "\n",
        "# Get number of epochs\n",
        "epochs = range(len(acc))\n",
        "\n",
        "# Plot training and validation accuracy per epoch\n",
        "plt.plot(epochs, acc)\n",
        "plt.plot(epochs, val_acc)\n",
        "plt.title('Training and validation accuracy')\n",
        "\n",
        "plt.figure()\n",
        "\n",
        "# Plot training and validation loss per epoch\n",
        "plt.plot(epochs, loss)\n",
        "plt.plot(epochs, val_loss)\n",
        "plt.title('Training and validation loss')"
      ],
      "execution_count": 0,
      "outputs": [
        {
          "output_type": "execute_result",
          "data": {
            "text/plain": [
              "Text(0.5, 1.0, 'Training and validation loss')"
            ]
          },
          "metadata": {
            "tags": []
          },
          "execution_count": 13
        },
        {
          "output_type": "display_data",
          "data": {
            "image/png": "[encoded data removed]",
            "text/plain": [
              "<Figure size 576x396 with 1 Axes>"
            ]
          },
          "metadata": {
            "tags": []
          }
        },
        {
          "output_type": "display_data",
          "data": {
            "image/png": "[encoded data removed]",
            "text/plain": [
              "<Figure size 576x396 with 1 Axes>"
            ]
          },
          "metadata": {
            "tags": []
          }
        }
      ]
    },
    {
      "cell_type": "markdown",
      "metadata": {
        "id": "_pnLr6puHGea",
        "colab_type": "text"
      },
      "source": [
        "##Run 2 with Data Augmentation"
      ]
    },
    {
      "cell_type": "code",
      "metadata": {
        "id": "POlwiwOLtyET",
        "colab_type": "code",
        "outputId": "2f440349-a71d-4382-a1c3-8a98d8882e49",
        "colab": {
          "base_uri": "https://localhost:8080/",
          "height": 202
        }
      },
      "source": [
        "#using first set of augmented data\n",
        "#resumes are tokenized into sentences and then randomly mixed up\n",
        "\n",
        "url = 'https://raw.githubusercontent.com/hsoJLeu/resumAI/master/data/augmented_resumes.csv'\n",
        "\n",
        "df = pd.read_csv(url)\n",
        "df.head()"
      ],
      "execution_count": 0,
      "outputs": [
        {
          "output_type": "execute_result",
          "data": {
            "text/html": [
              "<div>\n",
              "<style scoped>\n",
              "    .dataframe tbody tr th:only-of-type {\n",
              "        vertical-align: middle;\n",
              "    }\n",
              "\n",
              "    .dataframe tbody tr th {\n",
              "        vertical-align: top;\n",
              "    }\n",
              "\n",
              "    .dataframe thead th {\n",
              "        text-align: right;\n",
              "    }\n",
              "</style>\n",
              "<table border=\"1\" class=\"dataframe\">\n",
              "  <thead>\n",
              "    <tr style=\"text-align: right;\">\n",
              "      <th></th>\n",
              "      <th>ID</th>\n",
              "      <th>Category</th>\n",
              "      <th>Resume</th>\n",
              "    </tr>\n",
              "  </thead>\n",
              "  <tbody>\n",
              "    <tr>\n",
              "      <th>0</th>\n",
              "      <td>1</td>\n",
              "      <td>HR</td>\n",
              "      <td>com \\ n \\ napproachable innovator passion huma...</td>\n",
              "    </tr>\n",
              "    <tr>\n",
              "      <th>1</th>\n",
              "      <td>2</td>\n",
              "      <td>HR</td>\n",
              "      <td>analyze data projections create forecasts narr...</td>\n",
              "    </tr>\n",
              "    <tr>\n",
              "      <th>2</th>\n",
              "      <td>3</td>\n",
              "      <td>HR</td>\n",
              "      <td>smith , p . revamped orientation training \\ np...</td>\n",
              "    </tr>\n",
              "    <tr>\n",
              "      <th>3</th>\n",
              "      <td>4</td>\n",
              "      <td>HR</td>\n",
              "      <td>directly supervise \\ nstaff 3 : hr admin , plu...</td>\n",
              "    </tr>\n",
              "    <tr>\n",
              "      <th>4</th>\n",
              "      <td>5</td>\n",
              "      <td>HR</td>\n",
              "      <td>supervised hr \\ nassistant 3 temporary human r...</td>\n",
              "    </tr>\n",
              "  </tbody>\n",
              "</table>\n",
              "</div>"
            ],
            "text/plain": [
              "   ID Category                                             Resume\n",
              "0   1       HR  com \\ n \\ napproachable innovator passion huma...\n",
              "1   2       HR  analyze data projections create forecasts narr...\n",
              "2   3       HR  smith , p . revamped orientation training \\ np...\n",
              "3   4       HR  directly supervise \\ nstaff 3 : hr admin , plu...\n",
              "4   5       HR  supervised hr \\ nassistant 3 temporary human r..."
            ]
          },
          "metadata": {
            "tags": []
          },
          "execution_count": 14
        }
      ]
    },
    {
      "cell_type": "code",
      "metadata": {
        "id": "ybYvMmn4xEBZ",
        "colab_type": "code",
        "colab": {}
      },
      "source": [
        "resume_list = df['Resume']            # get resume list\n",
        "category_list = df['Category']        # get category list\n",
        "#category_id_list = df['category_id']  # get category id list"
      ],
      "execution_count": 0,
      "outputs": []
    },
    {
      "cell_type": "markdown",
      "metadata": {
        "id": "eTNOmyslPQr8",
        "colab_type": "text"
      },
      "source": [
        "##Algorithm for data augmentation, commented out because takes a long time so we wrote it to a .csv and put it in our github"
      ]
    },
    {
      "cell_type": "code",
      "metadata": {
        "id": "LqRaNXdEJ4Ww",
        "colab_type": "code",
        "colab": {}
      },
      "source": [
        "# # Data Augmentation\n",
        "\n",
        "# import nltk\n",
        "# nltk.download('punkt')\n",
        "# from nltk import sent_tokenize\n",
        "# import json\n",
        "# import random\n",
        "# import sys\n",
        "# import time\n",
        "# import tqdm\n",
        "# from tqdm import tqdm\n",
        "# import csv\n",
        "\n",
        "# def tokenize(resume):\n",
        "#     '''text: list of resumes'''\n",
        "#     tokenized =  sent_tokenize(resume)\n",
        "#     return tokenized\n",
        "\t\n",
        "\t\t\n",
        "# def shuffle_tokenized(resume):\n",
        "#     random.shuffle(resume)\n",
        "#     newl=list(resume)\n",
        "#     shuffled.append(newl)\n",
        "#     return resume\n",
        "  \n",
        "# print(resume_list[0])\n",
        "# print(category_list[0])\n",
        "# print(resume_list.size)\n",
        "\n",
        "\n",
        "# augmented_category = \"\" \n",
        "# reps=[]               #reps = repeated reshuffles\n",
        "# augmented_count = 0\n",
        "\n",
        "# resume_list_size = resume_list.size\n",
        "\n",
        "# print(\"augmenting \", resume_list_size, \" resumes\")\n",
        "\n",
        "# with open('augmented_resumes.csv', mode='w') as augmented_resumes:\n",
        "#     augmented_writer = csv.writer(augmented_resumes, delimiter=',', quotechar='\"', quoting=csv.QUOTE_MINIMAL)\n",
        "#     augmented_writer.writerow(['ID', 'Category', 'Resume'])\n",
        "    \n",
        "\n",
        "#     # for i in tqdm(range(resume_list_size)):\n",
        "#     for i in tqdm(range(resume_list_size)):\n",
        "#         augmented = []\n",
        "        \n",
        "#         tok = tokenize(resume_list[i])\n",
        "#         shuffled= [tok]\n",
        "\n",
        "#         for j in range(10):\n",
        "#         #generate 10 new resumes\n",
        "#             shuffle_tokenized(shuffled[-1])\n",
        "\n",
        "#         for k in shuffled:\n",
        "#             s = ' '\n",
        "#             new_resume = s.join(k)\n",
        "#             new_category = category_list[i]\n",
        "\n",
        "#             if new_resume not in augmented:\n",
        "#     #             augmented.append(new_resume)\n",
        "#                 augmented = np.append(augmented, new_resume)\n",
        "#                 resume_list = np.append(resume_list, new_resume)\n",
        "#                 category_list = np.append(category_list, new_category)\n",
        "#                 augmented_count += 1\n",
        "#                 augmented_writer.writerow([augmented_count, new_category, new_resume])\n",
        "#             else:\n",
        "#                 reps.append(new_resume)\n",
        "#                 #augmented_category.append(category_list[i])\n"
      ],
      "execution_count": 0,
      "outputs": []
    },
    {
      "cell_type": "code",
      "metadata": {
        "id": "r9VgFK4l5Z_1",
        "colab_type": "code",
        "outputId": "8b3c62a5-7ec4-4d73-e725-a11da0d576ac",
        "colab": {
          "base_uri": "https://localhost:8080/",
          "height": 1109
        }
      },
      "source": [
        "print(resume_list.size)\n",
        "print(resume_list)"
      ],
      "execution_count": 0,
      "outputs": [
        {
          "output_type": "stream",
          "text": [
            "7022\n",
            "0       com \\ n \\ napproachable innovator passion huma...\n",
            "1       analyze data projections create forecasts narr...\n",
            "2       smith , p . revamped orientation training \\ np...\n",
            "3       directly supervise \\ nstaff 3 : hr admin , plu...\n",
            "4       supervised hr \\ nassistant 3 temporary human r...\n",
            "5       \\ xe2 \\ x80 \\ x93 tampa , fl \\ n \\ n2010 \\ xe2...\n",
            "6       \\ xe2 \\ x80 \\ x93 atlanta , ga \\ n \\ n2008 \\ x...\n",
            "7       communicate early changes dependent coverage ,...\n",
            "8       c .\\ n \\ n2004 \\ xe2 \\ x80 \\ x932006 \\ n \\ npr...\n",
            "9       bjohn h smith phrn po box callahan fl infogrea...\n",
            "10      bname surnamenaddressnmobile noemailnpersonal ...\n",
            "11      com \\ n \\ nuniversity birmingham ,\\ nba ( hons...\n",
            "12      however cv template must distributed made avai...\n",
            "13      com .' com . dayjob . com \\ n \\ nuniversity bi...\n",
            "14      also welcome link \\ nany page site www . dayjo...\n",
            "15      questions relating use template please email :...\n",
            "16      dayjob . also welcome link \\ nany page site ww...\n",
            "17      job seekers may download use \\ nparticular res...\n",
            "18      com .' com \\ n \\ nuniversity birmingham ,\\ nba...\n",
            "19      com . questions relating use template please e...\n",
            "20      job seekers may download use \\ nparticular res...\n",
            "21      u . com \\ n \\ xef \\ x82 \\ xb7 \\ n \\ xef \\ x82 ...\n",
            "22      downloadmela . com \\ nmultimedia domain : embe...\n",
            "23      \\ n ( psychology )\\ n \\ ncollege \\ nchrist col...\n",
            "24      com \\ n \\ xef \\ x82 \\ xae \\ n \\ nreleasing qua...\n",
            "25      downloadmela . r )\\ nb . 11 , xdsl , nms - ems...\n",
            "26      downloadmela . monitor analyze effectiveness p...\n",
            "27      11 , xdsl , nms - ems , storage domain .\\ napp...\n",
            "28      com \\ n \\ xef \\ x82 \\ xb7 \\ n \\ xef \\ x82 \\ xb...\n",
            "29      downloadmela . monitor analyze effectiveness p...\n",
            "                              ...                        \n",
            "6992    bfree flight attendant resumendarlene flintn w...\n",
            "6993    bcorporate flight attendant resumencaitlin fla...\n",
            "6994    theodore helmer teaching award , department ma...\n",
            "6995    theodore helmer teaching award , department ma...\n",
            "6996    72 \\ nprofessional military education \\ nair c...\n",
            "6997    bmajor conrad preedomn fairchild dr suite hnus...\n",
            "6998    88 \\ nbs , operations research , us air force ...\n",
            "6999    88 \\ nbs , operations research , us air force ...\n",
            "7000    theodore helmer teaching award , department ma...\n",
            "7001    88 \\ nbs , operations research , us air force ...\n",
            "7002    bstacy samplenn cellnnemailcomnnqualifications...\n",
            "7003    bstacy samplenn cellnnemailcomnnqualifications...\n",
            "7004    - day schedule included as350 & - 76 charter ,...\n",
            "7005    part 91 , 135 .\\ n \\ nsikorsky - 70 & bell 205...\n",
            "7006    part 91 , 135 .\\ n \\ nsikorsky - 70 & bell 205...\n",
            "7007    . part 91 , 135 .\\ n \\ nas 350 charter / tour ...\n",
            "7008    bstacy samplenn cellnnemailcomnnqualifications...\n",
            "7009    - day schedule included as350 & - 76 charter ,...\n",
            "7010    . bstacy samplenn cellnnemailcomnnqualificatio...\n",
            "7011    part 91 , 135 .\\ n \\ nas 350 charter / tour pi...\n",
            "7012    0 / 4 . good idea vary \\ nthe action verbs res...\n",
            "7013    allows potential employer easily \\ nscan resum...\n",
            "7014    3 . jackson blvd , suite 9500 \\ nchicago il , ...\n",
            "7015    consider incorporating , addition \\ nthat spec...\n",
            "7016    0 / 4 . 0 \\ nritsumeikan university , kyoto , ...\n",
            "7017    com \\ ncareer highlights \\ n \\ xef \\ x82 \\ xa7...\n",
            "7018    list sampling types \\ nskills might highlight ...\n",
            "7019    \\ nthis experience relate internship / employm...\n",
            "7020    business administration , linkoping university...\n",
            "7021    member , participant , honoree , presenter ) \\...\n",
            "Name: Resume, Length: 7022, dtype: object\n"
          ],
          "name": "stdout"
        }
      ]
    },
    {
      "cell_type": "code",
      "metadata": {
        "id": "PA_KzQ8m4zyJ",
        "colab_type": "code",
        "colab": {}
      },
      "source": [
        "# #verifying augmentation worked\n",
        "\n",
        "# augmented_length = len(augmented)\n",
        "# reps_length = len(reps)\n",
        "# print(augmented_length)\n",
        "# print(reps_length)\n",
        "\n",
        "# for i in range(3):\n",
        "#   print(resume_list[-i])\n",
        "\n",
        "# print(\"\\naugmented resume:\")\n",
        "# for i in range(30):\n",
        "#   print(reps[-i])\n",
        "# #   print(augmented[i])"
      ],
      "execution_count": 0,
      "outputs": []
    },
    {
      "cell_type": "code",
      "metadata": {
        "id": "PCMFQgB_NezP",
        "colab_type": "code",
        "colab": {}
      },
      "source": [
        "# Split augmented data and category into training and test data\n",
        "\n",
        "from sklearn.model_selection import train_test_split\n",
        "X_train, X_test, y_train, y_test = train_test_split(resume_list, category_list, test_size = 0.2, random_state=0)"
      ],
      "execution_count": 0,
      "outputs": []
    },
    {
      "cell_type": "code",
      "metadata": {
        "id": "btJspEPx62kf",
        "colab_type": "code",
        "outputId": "cbd21591-78b1-4847-8bd4-8b16aa00366e",
        "colab": {
          "base_uri": "https://localhost:8080/",
          "height": 34
        }
      },
      "source": [
        "len(X_train)\n",
        "len(y_train)\n"
      ],
      "execution_count": 0,
      "outputs": [
        {
          "output_type": "execute_result",
          "data": {
            "text/plain": [
              "5617"
            ]
          },
          "metadata": {
            "tags": []
          },
          "execution_count": 19
        }
      ]
    },
    {
      "cell_type": "code",
      "metadata": {
        "id": "KbMsjwnH7CGt",
        "colab_type": "code",
        "colab": {}
      },
      "source": [
        "from sklearn.preprocessing import LabelBinarizer, LabelEncoder\n",
        "from sklearn.metrics import confusion_matrix\n",
        "from keras import utils\n",
        "\n",
        "max_words = 1000\n",
        "tokenize = text.Tokenizer(num_words=max_words, char_level=False)\n",
        "tokenize.fit_on_texts(X_train) # only fit on train\n",
        "\n",
        "\n",
        "x_train = tokenize.texts_to_matrix(X_train)\n",
        "x_test = tokenize.texts_to_matrix(X_test)\n",
        "\n",
        "encoder = LabelEncoder()\n",
        "encoder.fit(y_train)\n",
        "y_train = encoder.transform(y_train)\n",
        "y_test = encoder.transform(y_test)\n",
        "\n",
        "num_classes = np.max(y_train) + 1\n",
        "y_train = utils.to_categorical(y_train, num_classes)\n",
        "y_test = utils.to_categorical(y_test, num_classes)\n",
        "\n",
        "batch_size = 32\n",
        "epochs = 10"
      ],
      "execution_count": 0,
      "outputs": []
    },
    {
      "cell_type": "code",
      "metadata": {
        "id": "QgT9gnPX7OOf",
        "colab_type": "code",
        "colab": {}
      },
      "source": [
        "from tensorflow import keras\n",
        "from keras.models import Sequential\n",
        "from keras.layers import Dense, Activation, Dropout\n",
        "\n",
        "# Build the model\n",
        "model = Sequential()\n",
        "model.add(Dense(512, input_shape=(max_words,)))\n",
        "model.add(Activation('relu'))\n",
        "model.add(Dropout(0.5))\n",
        "model.add(Dense(num_classes))\n",
        "model.add(Activation('softmax'))\n",
        "\n",
        "model.compile(loss='categorical_crossentropy',\n",
        "              optimizer='adam',\n",
        "              metrics=['accuracy'])"
      ],
      "execution_count": 0,
      "outputs": []
    },
    {
      "cell_type": "code",
      "metadata": {
        "id": "gJrO6JDa7PMX",
        "colab_type": "code",
        "outputId": "5189eae2-7efe-4423-ff84-99d3039ce967",
        "colab": {
          "base_uri": "https://localhost:8080/",
          "height": 381
        }
      },
      "source": [
        "history = model.fit(x_train, y_train,\n",
        "                    batch_size=batch_size,\n",
        "                    epochs=epochs,\n",
        "                    verbose=1,\n",
        "                    validation_split=0.1)"
      ],
      "execution_count": 0,
      "outputs": [
        {
          "output_type": "stream",
          "text": [
            "Train on 5055 samples, validate on 562 samples\n",
            "Epoch 1/10\n",
            "5055/5055 [==============================] - 1s 207us/step - loss: 1.3032 - acc: 0.6785 - val_loss: 0.3812 - val_acc: 0.9217\n",
            "Epoch 2/10\n",
            "5055/5055 [==============================] - 1s 157us/step - loss: 0.4208 - acc: 0.9017 - val_loss: 0.2929 - val_acc: 0.9199\n",
            "Epoch 3/10\n",
            "5055/5055 [==============================] - 1s 159us/step - loss: 0.3006 - acc: 0.9272 - val_loss: 0.2314 - val_acc: 0.9342\n",
            "Epoch 4/10\n",
            "5055/5055 [==============================] - 1s 158us/step - loss: 0.2447 - acc: 0.9426 - val_loss: 0.1929 - val_acc: 0.9466\n",
            "Epoch 5/10\n",
            "5055/5055 [==============================] - 1s 158us/step - loss: 0.1985 - acc: 0.9505 - val_loss: 0.1811 - val_acc: 0.9359\n",
            "Epoch 6/10\n",
            "5055/5055 [==============================] - 1s 159us/step - loss: 0.1905 - acc: 0.9527 - val_loss: 0.1571 - val_acc: 0.9466\n",
            "Epoch 7/10\n",
            "5055/5055 [==============================] - 1s 157us/step - loss: 0.1674 - acc: 0.9505 - val_loss: 0.1513 - val_acc: 0.9466\n",
            "Epoch 8/10\n",
            "5055/5055 [==============================] - 1s 159us/step - loss: 0.1631 - acc: 0.9535 - val_loss: 0.1413 - val_acc: 0.9484\n",
            "Epoch 9/10\n",
            "5055/5055 [==============================] - 1s 160us/step - loss: 0.1470 - acc: 0.9539 - val_loss: 0.1345 - val_acc: 0.9466\n",
            "Epoch 10/10\n",
            "5055/5055 [==============================] - 1s 159us/step - loss: 0.1517 - acc: 0.9545 - val_loss: 0.1546 - val_acc: 0.9377\n"
          ],
          "name": "stdout"
        }
      ]
    },
    {
      "cell_type": "code",
      "metadata": {
        "id": "gU9V4NsY7c6W",
        "colab_type": "code",
        "outputId": "217bd44e-f54e-4ed8-e2c8-5af8dbc82e50",
        "colab": {
          "base_uri": "https://localhost:8080/",
          "height": 52
        }
      },
      "source": [
        "score = model.evaluate(x_test, y_test,\n",
        "                       batch_size=batch_size, verbose=1)\n",
        "print('Test accuracy:', score[1])"
      ],
      "execution_count": 0,
      "outputs": [
        {
          "output_type": "stream",
          "text": [
            "1405/1405 [==============================] - 0s 56us/step\n",
            "Test accuracy: 0.9181494666588264\n"
          ],
          "name": "stdout"
        }
      ]
    },
    {
      "cell_type": "code",
      "metadata": {
        "id": "T6cZc6pQ7jd2",
        "colab_type": "code",
        "outputId": "86a93e62-37c4-4066-a5c3-9a607734d9c9",
        "colab": {
          "base_uri": "https://localhost:8080/",
          "height": 725
        }
      },
      "source": [
        "#results for first method of augmentation\n",
        "\n",
        "import matplotlib.pyplot as plt\n",
        "import matplotlib.image as mpimg\n",
        "\n",
        "# Retrieve a list of accuracy results on training and test data\n",
        "# sets for each training epoch\n",
        "acc = history.history['acc']\n",
        "val_acc = history.history['val_acc']\n",
        "\n",
        "# Retrieve a list of list results on training and test data\n",
        "# sets for each training epoch\n",
        "loss = history.history['loss']\n",
        "val_loss = history.history['val_loss']\n",
        "\n",
        "# Get number of epochs\n",
        "epochs = range(len(acc))\n",
        "\n",
        "# Plot training and validation accuracy per epoch\n",
        "plt.plot(epochs, acc)\n",
        "plt.plot(epochs, val_acc)\n",
        "plt.title('Training and validation accuracy')\n",
        "\n",
        "plt.figure()\n",
        "\n",
        "# Plot training and validation loss per epoch\n",
        "plt.plot(epochs, loss)\n",
        "plt.plot(epochs, val_loss)\n",
        "plt.title('Training and validation loss')"
      ],
      "execution_count": 0,
      "outputs": [
        {
          "output_type": "execute_result",
          "data": {
            "text/plain": [
              "Text(0.5, 1.0, 'Training and validation loss')"
            ]
          },
          "metadata": {
            "tags": []
          },
          "execution_count": 24
        },
        {
          "output_type": "display_data",
          "data": {
            "image/png": "[encoded data removed]",
            "text/plain": [
              "<Figure size 576x396 with 1 Axes>"
            ]
          },
          "metadata": {
            "tags": []
          }
        },
        {
          "output_type": "display_data",
          "data": {
            "image/png": "[encoded data removed]",
            "text/plain": [
              "<Figure size 576x396 with 1 Axes>"
            ]
          },
          "metadata": {
            "tags": []
          }
        }
      ]
    },
    {
      "cell_type": "markdown",
      "metadata": {
        "id": "-kQLEq6GHSQl",
        "colab_type": "text"
      },
      "source": [
        "## Run 3 with keeping training data and validation data separate "
      ]
    },
    {
      "cell_type": "code",
      "metadata": {
        "id": "5R-8Ftn-zSS-",
        "colab_type": "code",
        "outputId": "b089b547-998f-4a5f-a1e4-bb38ee774264",
        "colab": {
          "base_uri": "https://localhost:8080/",
          "height": 204
        }
      },
      "source": [
        "#second method to data augmentation\n",
        "\n",
        "url = 'https://raw.githubusercontent.com/hsoJLeu/resumAI/master/data/resume_dataset.csv'   \n",
        "\n",
        "df = pd.read_csv(url)\n",
        "df.head()"
      ],
      "execution_count": 0,
      "outputs": [
        {
          "output_type": "execute_result",
          "data": {
            "text/html": [
              "<div>\n",
              "<style scoped>\n",
              "    .dataframe tbody tr th:only-of-type {\n",
              "        vertical-align: middle;\n",
              "    }\n",
              "\n",
              "    .dataframe tbody tr th {\n",
              "        vertical-align: top;\n",
              "    }\n",
              "\n",
              "    .dataframe thead th {\n",
              "        text-align: right;\n",
              "    }\n",
              "</style>\n",
              "<table border=\"1\" class=\"dataframe\">\n",
              "  <thead>\n",
              "    <tr style=\"text-align: right;\">\n",
              "      <th></th>\n",
              "      <th>ID</th>\n",
              "      <th>Category</th>\n",
              "      <th>Resume</th>\n",
              "    </tr>\n",
              "  </thead>\n",
              "  <tbody>\n",
              "    <tr>\n",
              "      <th>0</th>\n",
              "      <td>1</td>\n",
              "      <td>HR</td>\n",
              "      <td>b'John H. Smith, P.H.R.\\n800-991-5187 | PO Box...</td>\n",
              "    </tr>\n",
              "    <tr>\n",
              "      <th>1</th>\n",
              "      <td>2</td>\n",
              "      <td>HR</td>\n",
              "      <td>b'Name Surname\\nAddress\\nMobile No/Email\\nPERS...</td>\n",
              "    </tr>\n",
              "    <tr>\n",
              "      <th>2</th>\n",
              "      <td>3</td>\n",
              "      <td>HR</td>\n",
              "      <td>b'Anthony Brown\\nHR Assistant\\nAREAS OF EXPERT...</td>\n",
              "    </tr>\n",
              "    <tr>\n",
              "      <th>3</th>\n",
              "      <td>4</td>\n",
              "      <td>HR</td>\n",
              "      <td>b'www.downloadmela.com\\nSatheesh\\nEMAIL ID:\\nC...</td>\n",
              "    </tr>\n",
              "    <tr>\n",
              "      <th>4</th>\n",
              "      <td>5</td>\n",
              "      <td>HR</td>\n",
              "      <td>b\"HUMAN RESOURCES DIRECTOR\\n\\xef\\x82\\xb7Expert...</td>\n",
              "    </tr>\n",
              "  </tbody>\n",
              "</table>\n",
              "</div>"
            ],
            "text/plain": [
              "   ID Category                                             Resume\n",
              "0   1       HR  b'John H. Smith, P.H.R.\\n800-991-5187 | PO Box...\n",
              "1   2       HR  b'Name Surname\\nAddress\\nMobile No/Email\\nPERS...\n",
              "2   3       HR  b'Anthony Brown\\nHR Assistant\\nAREAS OF EXPERT...\n",
              "3   4       HR  b'www.downloadmela.com\\nSatheesh\\nEMAIL ID:\\nC...\n",
              "4   5       HR  b\"HUMAN RESOURCES DIRECTOR\\n\\xef\\x82\\xb7Expert..."
            ]
          },
          "metadata": {
            "tags": []
          },
          "execution_count": 4
        }
      ]
    },
    {
      "cell_type": "code",
      "metadata": {
        "id": "SCzF754M0tQC",
        "colab_type": "code",
        "colab": {}
      },
      "source": [
        "# Data cleaning\n",
        "\n",
        "from io import StringIO\n",
        "col = ['Category', 'Resume']\n",
        "df = df[col]\n",
        "df = df[pd.notnull(df['Resume'])]\n",
        "df.columns = ['Category', 'Resume']\n",
        "df['category_id'] = df['Category'].factorize()[0]\n",
        "# clean category -> category Id\n",
        "\n",
        "# #DROPPING ROW 132 because it messes things up\n",
        "# df.drop(df.index[132])\n",
        "\n",
        "category_id_df = df[['Category', 'category_id']].drop_duplicates().sort_values('category_id')\n",
        "category_to_id = dict(category_id_df.values)\n",
        "id_to_category = dict(category_id_df[['category_id', 'Category']].values)\n",
        "\n",
        "# Drop resumes if data contain b'' there are 12 of these in our dataset\n",
        "# Empty resumes in the dataset, one hot can't encode empty resumes\n",
        "\n",
        "df = df[df['Resume'].map(len) > 4]\n",
        "\n",
        "# Get a count for resumes in the dataframe so that we can fix overfitting issues\n",
        "df['count_resumes'] = df.groupby(['Category', 'category_id'])['category_id'].transform('count')\n",
        "  \n",
        "# To look at count of resumes per category  \n",
        "countDF = df[['Category', 'count_resumes']]\n",
        "#print(\"Number of resumes per category:\")\n",
        "countDF.drop_duplicates(subset='Category', keep=\"first\")\n",
        "\n",
        "df = df.reset_index(drop=True)"
      ],
      "execution_count": 0,
      "outputs": []
    },
    {
      "cell_type": "code",
      "metadata": {
        "id": "6pUJwzaq0zrX",
        "colab_type": "code",
        "outputId": "2e532ee2-ecd4-47cf-91be-d283760e8434",
        "colab": {
          "base_uri": "https://localhost:8080/",
          "height": 136
        }
      },
      "source": [
        "resume_list = df['Resume']            # get resume list\n",
        "category_list = df['Category']        # get category list\n",
        "category_id_list = df['category_id']  # get category id list\n",
        "\n",
        "#split into train and test\n",
        "train=df.sample(frac=0.8,random_state=200)\n",
        "test=df.drop(train.index)\n",
        "\n",
        "train_resume_list = train['Resume']            # train resume list\n",
        "train_category_list = train['Category']        # train category list\n",
        "train_category_id_list = train['category_id']  # train category id list\n",
        "\n",
        "test_resume_list = test['Resume']            # test resume list\n",
        "test_category_list = test['Category']        # test category list\n",
        "test_category_id_list = test['category_id']  # test category id list\n",
        "\n",
        "print(len(train))\n",
        "test_resume_list.head()\n"
      ],
      "execution_count": 0,
      "outputs": [
        {
          "output_type": "stream",
          "text": [
            "965\n"
          ],
          "name": "stdout"
        },
        {
          "output_type": "execute_result",
          "data": {
            "text/plain": [
              "0     b'John H. Smith, P.H.R.\\n800-991-5187 | PO Box...\n",
              "10    b'RESUME WORLD INC.\\n1200 Markham Road, Suite ...\n",
              "15    b'Anthony Brown\\nHR Assistant\\nAREAS OF EXPERT...\n",
              "17    b'Human Resources Manager\\nCurriculum Vitae Ex...\n",
              "27    b'RESUME WORLD INC.\\n1200 Markham Road, Suite ...\n",
              "Name: Resume, dtype: object"
            ]
          },
          "metadata": {
            "tags": []
          },
          "execution_count": 6
        }
      ]
    },
    {
      "cell_type": "code",
      "metadata": {
        "id": "6smT5OrI1Hqd",
        "colab_type": "code",
        "outputId": "c61d94ed-0cd4-4bd4-fc63-df3457447937",
        "colab": {
          "base_uri": "https://localhost:8080/",
          "height": 51
        }
      },
      "source": [
        "# This part applies regex and cleans data in resume field \n",
        "\n",
        "nltk.download('stopwords')\n",
        "import re\n",
        "\n",
        "wpt = nltk.WordPunctTokenizer()\n",
        "stop_words = nltk.corpus.stopwords.words('english')\n",
        "\n",
        "def normalize_document(doc):\n",
        "    # lower case and remove special characters\\whitespaces\n",
        "    doc = re.sub(r'[^a-zA-Z\\s]', '', doc, re.I|re.A)\n",
        "    # Get rid of the unicodes starting with \\\n",
        "    doc = re.sub(r'[^\\x00-\\xff]',r'', doc) \n",
        "    doc = doc.lower()\n",
        "    doc = doc.strip()\n",
        "    # tokenize document\n",
        "    tokens = wpt.tokenize(doc)\n",
        "    # filter stopwords out of document\n",
        "    filtered_tokens = [token for token in tokens if token not in stop_words]\n",
        "    # re-create document from filtered tokens\n",
        "    doc = ' '.join(filtered_tokens)\n",
        "    return doc\n",
        "\n",
        "normalize_corpus = np.vectorize(normalize_document)\n",
        "norm_corpus = normalize_corpus(resume_list)\n",
        "#norm_corpus # this is a numpy array & cleaned out data\n",
        "\n",
        "# test\n",
        "resume_list = norm_corpus\n",
        "#resume_list\n",
        "\n",
        "train_norm_corpus = normalize_corpus(train_resume_list)\n",
        "#train_norm_corpus \n",
        "train_resume_list = train_norm_corpus \n",
        "#train_norm_corpus\n",
        "\n",
        "test_norm_corpus = normalize_corpus(test_resume_list)\n",
        "#test_norm_corpus \n",
        "test_resume_list = test_norm_corpus \n",
        "#test_norm_corpus\n",
        "\n"
      ],
      "execution_count": 0,
      "outputs": [
        {
          "output_type": "stream",
          "text": [
            "[nltk_data] Downloading package stopwords to /root/nltk_data...\n",
            "[nltk_data]   Unzipping corpora/stopwords.zip.\n"
          ],
          "name": "stdout"
        }
      ]
    },
    {
      "cell_type": "code",
      "metadata": {
        "id": "LJBBg5yg1Nqn",
        "colab_type": "code",
        "outputId": "baea582f-0d2c-44c0-99fd-647b9eb7a8d0",
        "colab": {
          "base_uri": "https://localhost:8080/",
          "height": 34
        }
      },
      "source": [
        "len(train_resume_list)\n",
        "len(train_category_list)"
      ],
      "execution_count": 0,
      "outputs": [
        {
          "output_type": "execute_result",
          "data": {
            "text/plain": [
              "965"
            ]
          },
          "metadata": {
            "tags": []
          },
          "execution_count": 8
        }
      ]
    },
    {
      "cell_type": "code",
      "metadata": {
        "id": "lcVNsymW1XWR",
        "colab_type": "code",
        "outputId": "4c7cb56c-4a1b-4d1c-ae6f-f04555bf4c25",
        "colab": {
          "base_uri": "https://localhost:8080/",
          "height": 34
        }
      },
      "source": [
        "print(train_category_list[132])"
      ],
      "execution_count": 0,
      "outputs": [
        {
          "output_type": "stream",
          "text": [
            "Managment\n"
          ],
          "name": "stdout"
        }
      ]
    },
    {
      "cell_type": "markdown",
      "metadata": {
        "id": "ijAwiquNipGA",
        "colab_type": "text"
      },
      "source": [
        "## Data Augmentation \n",
        "### This may take awhile..."
      ]
    },
    {
      "cell_type": "code",
      "metadata": {
        "id": "2L03wgYh1jW_",
        "colab_type": "code",
        "outputId": "084acea5-5dac-4241-8b56-41080c1b4e18",
        "colab": {
          "base_uri": "https://localhost:8080/",
          "height": 85
        }
      },
      "source": [
        "# add augmentation here\n",
        "\n",
        "# Data Augmentation\n",
        "\n",
        "import nltk\n",
        "nltk.download('punkt')\n",
        "from nltk import sent_tokenize\n",
        "import json\n",
        "import random\n",
        "import sys\n",
        "import time\n",
        "import tqdm\n",
        "from tqdm import tqdm\n",
        "\n",
        "def tokenize(resume):\n",
        "    '''text: list of resumes'''\n",
        "    tokenized =  sent_tokenize(resume)\n",
        "    return tokenized\n",
        "\t\t\n",
        "def shuffle_tokenized(resume):\n",
        "    random.shuffle(resume)\n",
        "    newl=list(resume)\n",
        "    shuffled.append(newl)\n",
        "    return resume\n",
        "\n",
        "\n",
        "reps=[]               #reps = repeated reshuffles\n",
        "\n",
        "\n",
        "print(\"augmenting \", len(train_resume_list), \" training resumes\")\n",
        "for i in tqdm(range(len(train_resume_list))):\n",
        "  \n",
        "    augmented = []\n",
        "    #print(\"augmenting resume: \", i)\n",
        "    tok = tokenize(train_resume_list[i])\n",
        "    shuffled= [tok]\n",
        "\n",
        "    for j in range(3):\n",
        "    #generate 10 new resumes\n",
        "        shuffle_tokenized(shuffled[-1])\n",
        "\n",
        "    for k in shuffled:\n",
        "    # \t\t    '''create new review by joining the shuffled sentences'''\n",
        "        s = ' '\n",
        "        new_resume = s.join(k)\n",
        "        new_category = category_list[i]\n",
        "        \n",
        "        if new_resume not in augmented:\n",
        "            augmented.append(new_resume)\n",
        "            train_resume_list = np.append(train_resume_list, new_resume)\n",
        "            train_category_list = np.append(train_category_list, new_category)\n",
        "   \n",
        "        else:\n",
        "            reps.append(new_resume)\n",
        "            \n",
        "\n",
        "    #print(augmented)\n",
        "    del augmented[:]\n",
        "    \n",
        "    \n",
        "# print(\"augmenting \", len(test_resume_list), \" testing resumes\")\n",
        "# for i in tqdm(range(len(test_resume_list))):\n",
        "  \n",
        "#     augmented = []\n",
        "#     tok = tokenize(test_resume_list[i])\n",
        "#     shuffled= [tok]\n",
        "\n",
        "#     for j in range(10):\n",
        "#     #generate 10 new resumes\n",
        "#         shuffle_tokenized(shuffled[-1])\n",
        "\n",
        "#     for k in shuffled:\n",
        "#     # \t\t    '''create new review by joining the shuffled sentences'''\n",
        "#         s = ' '\n",
        "#         new_resume = s.join(k)\n",
        "#         new_category = category_list[i]\n",
        "        \n",
        "#         if new_resume not in augmented:\n",
        "#             augmented.append(new_resume)\n",
        "#             test_resume_list = np.append(test_resume_list, new_resume)\n",
        "#             test_category_list = np.append(test_category_list, new_category)\n",
        "   \n",
        "#         else:\n",
        "#             reps.append(new_resume)\n",
        "            \n",
        "\n",
        "#     #print(augmented)\n",
        "#     del augmented[:]"
      ],
      "execution_count": 0,
      "outputs": [
        {
          "output_type": "stream",
          "text": [
            "[nltk_data] Downloading package punkt to /root/nltk_data...\n",
            "[nltk_data]   Unzipping tokenizers/punkt.zip.\n"
          ],
          "name": "stdout"
        },
        {
          "output_type": "stream",
          "text": [
            "\r  0%|          | 0/965 [00:00<?, ?it/s]"
          ],
          "name": "stderr"
        },
        {
          "output_type": "stream",
          "text": [
            "augmenting  965  training resumes\n"
          ],
          "name": "stdout"
        },
        {
          "output_type": "stream",
          "text": [
            "100%|██████████| 965/965 [08:38<00:00,  2.13it/s]\n"
          ],
          "name": "stderr"
        }
      ]
    },
    {
      "cell_type": "code",
      "metadata": {
        "id": "mVug54Fv1rW5",
        "colab_type": "code",
        "colab": {}
      },
      "source": [
        "#X_train = train_resume_list\n",
        "#y_train = train_category_list\n",
        "#X_test = test_resume_list\n",
        "#y_test = test_category_list\n",
        "\n",
        "\n",
        "max_words = 1000\n",
        "tokenize = text.Tokenizer(num_words=max_words, char_level=False)\n",
        "tokenize.fit_on_texts(train_resume_list) # only fit on train\n",
        "\n",
        "\n",
        "x_train = tokenize.texts_to_matrix(train_resume_list)\n",
        "x_test = tokenize.texts_to_matrix(test_resume_list)\n",
        "\n",
        "encoder = LabelEncoder()\n",
        "encoder.fit(train_category_list)\n",
        "train_category_list = encoder.transform(train_category_list)\n",
        "test_category_list = encoder.transform(test_category_list)\n",
        "\n",
        "num_classes = np.max(train_category_list) + 1\n",
        "train_category_list = utils.to_categorical(train_category_list, num_classes)\n",
        "test_category_list = utils.to_categorical(test_category_list, num_classes)\n",
        "\n",
        "batch_size = 32\n",
        "epochs = 10\n"
      ],
      "execution_count": 0,
      "outputs": []
    },
    {
      "cell_type": "code",
      "metadata": {
        "id": "bKPYe1Ei1vt3",
        "colab_type": "code",
        "outputId": "7703d4dd-c24e-46f7-c9d3-4084953cf3b6",
        "colab": {
          "base_uri": "https://localhost:8080/",
          "height": 139
        }
      },
      "source": [
        "# Build the model\n",
        "model = Sequential()\n",
        "model.add(Dense(512, input_shape=(max_words,)))\n",
        "model.add(Activation('relu'))\n",
        "model.add(Dropout(0.5))\n",
        "model.add(Dense(num_classes))\n",
        "model.add(Activation('softmax'))\n",
        "\n",
        "model.compile(loss='categorical_crossentropy',\n",
        "              optimizer='adam',\n",
        "              metrics=['accuracy'])"
      ],
      "execution_count": 0,
      "outputs": [
        {
          "output_type": "stream",
          "text": [
            "WARNING:tensorflow:From /usr/local/lib/python3.6/dist-packages/tensorflow/python/framework/op_def_library.py:263: colocate_with (from tensorflow.python.framework.ops) is deprecated and will be removed in a future version.\n",
            "Instructions for updating:\n",
            "Colocations handled automatically by placer.\n",
            "WARNING:tensorflow:From /usr/local/lib/python3.6/dist-packages/keras/backend/tensorflow_backend.py:3445: calling dropout (from tensorflow.python.ops.nn_ops) with keep_prob is deprecated and will be removed in a future version.\n",
            "Instructions for updating:\n",
            "Please use `rate` instead of `keep_prob`. Rate should be set to `rate = 1 - keep_prob`.\n"
          ],
          "name": "stdout"
        }
      ]
    },
    {
      "cell_type": "code",
      "metadata": {
        "id": "cOG6mZQU1zPa",
        "colab_type": "code",
        "outputId": "9344e5b8-4678-44d4-d3f6-6fe60f778fdc",
        "colab": {
          "base_uri": "https://localhost:8080/",
          "height": 445
        }
      },
      "source": [
        "history = model.fit(x_train, train_category_list,\n",
        "                    batch_size=batch_size,\n",
        "                    epochs=epochs,\n",
        "                    verbose=1,\n",
        "                    validation_split=0.1)"
      ],
      "execution_count": 0,
      "outputs": [
        {
          "output_type": "stream",
          "text": [
            "WARNING:tensorflow:From /usr/local/lib/python3.6/dist-packages/tensorflow/python/ops/math_ops.py:3066: to_int32 (from tensorflow.python.ops.math_ops) is deprecated and will be removed in a future version.\n",
            "Instructions for updating:\n",
            "Use tf.cast instead.\n",
            "Train on 2736 samples, validate on 305 samples\n",
            "Epoch 1/10\n",
            "2736/2736 [==============================] - 3s 1ms/step - loss: 2.8594 - acc: 0.1689 - val_loss: 3.4578 - val_acc: 0.0066\n",
            "Epoch 2/10\n",
            "2736/2736 [==============================] - 0s 166us/step - loss: 2.1462 - acc: 0.3761 - val_loss: 3.6483 - val_acc: 0.0426\n",
            "Epoch 3/10\n",
            "2736/2736 [==============================] - 0s 174us/step - loss: 1.7659 - acc: 0.4909 - val_loss: 4.4288 - val_acc: 0.0295\n",
            "Epoch 4/10\n",
            "2736/2736 [==============================] - 0s 151us/step - loss: 1.5515 - acc: 0.5150 - val_loss: 4.3986 - val_acc: 0.0361\n",
            "Epoch 5/10\n",
            "2736/2736 [==============================] - 0s 169us/step - loss: 1.4111 - acc: 0.5548 - val_loss: 4.7310 - val_acc: 0.0393\n",
            "Epoch 6/10\n",
            "2736/2736 [==============================] - 0s 161us/step - loss: 1.3479 - acc: 0.5479 - val_loss: 4.5602 - val_acc: 0.0492\n",
            "Epoch 7/10\n",
            "2736/2736 [==============================] - 0s 166us/step - loss: 1.2671 - acc: 0.5574 - val_loss: 4.7987 - val_acc: 0.0492\n",
            "Epoch 8/10\n",
            "2736/2736 [==============================] - 0s 172us/step - loss: 1.2416 - acc: 0.5534 - val_loss: 4.6454 - val_acc: 0.0656\n",
            "Epoch 9/10\n",
            "2736/2736 [==============================] - 0s 176us/step - loss: 1.1915 - acc: 0.5673 - val_loss: 5.1005 - val_acc: 0.0590\n",
            "Epoch 10/10\n",
            "2736/2736 [==============================] - 0s 169us/step - loss: 1.1905 - acc: 0.5501 - val_loss: 5.4432 - val_acc: 0.0525\n"
          ],
          "name": "stdout"
        }
      ]
    },
    {
      "cell_type": "code",
      "metadata": {
        "id": "lREdMG7L16O4",
        "colab_type": "code",
        "outputId": "17f1b158-ef0e-461c-8045-6bb307963cd0",
        "colab": {
          "base_uri": "https://localhost:8080/",
          "height": 51
        }
      },
      "source": [
        "score = model.evaluate(x_test, test_category_list,\n",
        "                       batch_size=batch_size, verbose=1)\n",
        "print('Test accuracy:', score[1])"
      ],
      "execution_count": 0,
      "outputs": [
        {
          "output_type": "stream",
          "text": [
            "241/241 [==============================] - 0s 120us/step\n",
            "Test accuracy: 0.37344398371164234\n"
          ],
          "name": "stdout"
        }
      ]
    },
    {
      "cell_type": "code",
      "metadata": {
        "id": "hTWrMg6m2Hg-",
        "colab_type": "code",
        "outputId": "20eb0414-d3d0-4e52-91f4-749325fedd43",
        "colab": {
          "base_uri": "https://localhost:8080/",
          "height": 724
        }
      },
      "source": [
        "# Retrieve a list of accuracy results on training and test data\n",
        "# sets for each training epoch\n",
        "acc = history.history['acc']\n",
        "val_acc = history.history['val_acc']\n",
        "\n",
        "# Retrieve a list of list results on training and test data\n",
        "# sets for each training epoch\n",
        "loss = history.history['loss']\n",
        "val_loss = history.history['val_loss']\n",
        "\n",
        "# Get number of epochs\n",
        "epochs = range(len(acc))\n",
        "\n",
        "# Plot training and validation accuracy per epoch\n",
        "plt.plot(epochs, acc)\n",
        "plt.plot(epochs, val_acc)\n",
        "plt.title('Training and validation accuracy')\n",
        "\n",
        "plt.figure()\n",
        "\n",
        "# Plot training and validation loss per epoch\n",
        "plt.plot(epochs, loss)\n",
        "plt.plot(epochs, val_loss)\n",
        "plt.title('Training and validation loss')"
      ],
      "execution_count": 0,
      "outputs": [
        {
          "output_type": "execute_result",
          "data": {
            "text/plain": [
              "Text(0.5, 1.0, 'Training and validation loss')"
            ]
          },
          "metadata": {
            "tags": []
          },
          "execution_count": 14
        },
        {
          "output_type": "display_data",
          "data": {
            "image/png": "[encoded data removed]",
            "text/plain": [
              "<Figure size 576x396 with 1 Axes>"
            ]
          },
          "metadata": {
            "tags": []
          }
        },
        {
          "output_type": "display_data",
          "data": {
            "image/png": "[encoded data removed]",
            "text/plain": [
              "<Figure size 576x396 with 1 Axes>"
            ]
          },
          "metadata": {
            "tags": []
          }
        }
      ]
    },
    {
      "cell_type": "markdown",
      "metadata": {
        "id": "_tnpgdYs589K",
        "colab_type": "text"
      },
      "source": [
        "###Below is our third attempt at augmentation. This time we use embeddings to replace common words with synonyms."
      ]
    },
    {
      "cell_type": "markdown",
      "metadata": {
        "id": "FertpzDOrM6u",
        "colab_type": "text"
      },
      "source": [
        "\n",
        "#### NOTE TO PROFESSORS AND TA's: Our embedded words are currently in our local google drives. We want to upload them into our notebook. For professors and graders, please download the word embeddings folder here: \n",
        "https://drive.google.com/open?id=1RKAx9gAaTQldIfPuEl-ke1mNC0THTqzS\n",
        "\n",
        "\n",
        "\n"
      ]
    },
    {
      "cell_type": "code",
      "metadata": {
        "id": "a0mfUy786Icw",
        "colab_type": "code",
        "outputId": "aed09fc5-b5f1-4843-8643-ff3ede8c7e9e",
        "colab": {
          "base_uri": "https://localhost:8080/",
          "height": 122
        }
      },
      "source": [
        "# Load the Drive helper and mount\n",
        "from google.colab import drive\n",
        "\n",
        "# This will prompt for authorization.\n",
        "drive.mount('/content/drive')\n"
      ],
      "execution_count": 0,
      "outputs": [
        {
          "output_type": "stream",
          "text": [
            "Go to this URL in a browser: https://accounts.google.com/o/oauth2/auth?client_id=947318989803-6bn6qk8qdgf4n4g3pfee6491hc0brc4i.apps.googleusercontent.com&redirect_uri=urn%3Aietf%3Awg%3Aoauth%3A2.0%3Aoob&scope=email%20https%3A%2F%2Fwww.googleapis.com%2Fauth%2Fdocs.test%20https%3A%2F%2Fwww.googleapis.com%2Fauth%2Fdrive%20https%3A%2F%2Fwww.googleapis.com%2Fauth%2Fdrive.photos.readonly%20https%3A%2F%2Fwww.googleapis.com%2Fauth%2Fpeopleapi.readonly&response_type=code\n",
            "\n",
            "Enter your authorization code:\n",
            "··········\n",
            "Mounted at /content/drive\n"
          ],
          "name": "stdout"
        }
      ]
    },
    {
      "cell_type": "code",
      "metadata": {
        "id": "uQLMRzD16PKE",
        "colab_type": "code",
        "colab": {}
      },
      "source": [
        "import numpy as np\n",
        "import pandas as pd\n",
        "import seaborn as sns\n",
        "import matplotlib.pyplot as plt\n",
        "from collections import Counter\n",
        "from wordcloud import WordCloud\n",
        "\n",
        "np.random.seed(100)"
      ],
      "execution_count": 0,
      "outputs": []
    },
    {
      "cell_type": "markdown",
      "metadata": {
        "id": "5B2FGt-8F_RF",
        "colab_type": "text"
      },
      "source": [
        "# Loading word embedddings "
      ]
    },
    {
      "cell_type": "markdown",
      "metadata": {
        "id": "Th9h9tqVogQR",
        "colab_type": "text"
      },
      "source": [
        "In order to successfully load word embeddings, the person running the notebook must "
      ]
    },
    {
      "cell_type": "markdown",
      "metadata": {
        "id": "mMWUw67eQVed",
        "colab_type": "text"
      },
      "source": [
        "##Enter the path to the project folder here on line 8"
      ]
    },
    {
      "cell_type": "code",
      "metadata": {
        "id": "c4zJZnSzs1JX",
        "colab_type": "code",
        "outputId": "a52cc761-c93f-46fc-e066-80c2078d2e14",
        "colab": {
          "resources": {
            "http://localhost:8080/nbextensions/google.colab/files.js": {
              "data": "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",
              "ok": true,
              "headers": [
                [
                  "content-type",
                  "application/javascript"
                ]
              ],
              "status": 200,
              "status_text": ""
            }
          },
          "base_uri": "https://localhost:8080/",
          "height": 560
        }
      },
      "source": [
        "# USE THIS TO UPLOAD WORD EMBEDDINGS IF NOT USING GOOGLE COLAB\n",
        "\n",
        "from google.colab import files\n",
        "uploaded = files.upload()"
      ],
      "execution_count": 0,
      "outputs": [
        {
          "output_type": "display_data",
          "data": {
            "text/html": [
              "\n",
              "     <input type=\"file\" id=\"files-3a77b26a-a0cf-418e-b1e7-a1cdbdf60fa9\" name=\"files[]\" multiple disabled />\n",
              "     <output id=\"result-3a77b26a-a0cf-418e-b1e7-a1cdbdf60fa9\">\n",
              "      Upload widget is only available when the cell has been executed in the\n",
              "      current browser session. Please rerun this cell to enable.\n",
              "      </output>\n",
              "      <script src=\"/nbextensions/google.colab/files.js\"></script> "
            ],
            "text/plain": [
              "<IPython.core.display.HTML object>"
            ]
          },
          "metadata": {
            "tags": []
          }
        },
        {
          "output_type": "error",
          "ename": "KeyboardInterrupt",
          "evalue": "ignored",
          "traceback": [
            "\u001b[0;31m---------------------------------------------------------------------------\u001b[0m",
            "\u001b[0;31mKeyboardInterrupt\u001b[0m                         Traceback (most recent call last)",
            "\u001b[0;32m<ipython-input-35-21dc3c638f66>\u001b[0m in \u001b[0;36m<module>\u001b[0;34m()\u001b[0m\n\u001b[1;32m      1\u001b[0m \u001b[0;32mfrom\u001b[0m \u001b[0mgoogle\u001b[0m\u001b[0;34m.\u001b[0m\u001b[0mcolab\u001b[0m \u001b[0;32mimport\u001b[0m \u001b[0mfiles\u001b[0m\u001b[0;34m\u001b[0m\u001b[0;34m\u001b[0m\u001b[0m\n\u001b[0;32m----> 2\u001b[0;31m \u001b[0muploaded\u001b[0m \u001b[0;34m=\u001b[0m \u001b[0mfiles\u001b[0m\u001b[0;34m.\u001b[0m\u001b[0mupload\u001b[0m\u001b[0;34m(\u001b[0m\u001b[0;34m)\u001b[0m\u001b[0;34m\u001b[0m\u001b[0;34m\u001b[0m\u001b[0m\n\u001b[0m",
            "\u001b[0;32m/usr/local/lib/python3.6/dist-packages/google/colab/files.py\u001b[0m in \u001b[0;36mupload\u001b[0;34m()\u001b[0m\n\u001b[1;32m     62\u001b[0m   result = _output.eval_js(\n\u001b[1;32m     63\u001b[0m       'google.colab._files._uploadFiles(\"{input_id}\", \"{output_id}\")'.format(\n\u001b[0;32m---> 64\u001b[0;31m           input_id=input_id, output_id=output_id))\n\u001b[0m\u001b[1;32m     65\u001b[0m   \u001b[0mfiles\u001b[0m \u001b[0;34m=\u001b[0m \u001b[0m_collections\u001b[0m\u001b[0;34m.\u001b[0m\u001b[0mdefaultdict\u001b[0m\u001b[0;34m(\u001b[0m\u001b[0m_six\u001b[0m\u001b[0;34m.\u001b[0m\u001b[0mbinary_type\u001b[0m\u001b[0;34m)\u001b[0m\u001b[0;34m\u001b[0m\u001b[0;34m\u001b[0m\u001b[0m\n\u001b[1;32m     66\u001b[0m   \u001b[0;31m# Mapping from original filename to filename as saved locally.\u001b[0m\u001b[0;34m\u001b[0m\u001b[0;34m\u001b[0m\u001b[0;34m\u001b[0m\u001b[0m\n",
            "\u001b[0;32m/usr/local/lib/python3.6/dist-packages/google/colab/output/_js.py\u001b[0m in \u001b[0;36meval_js\u001b[0;34m(script, ignore_result)\u001b[0m\n\u001b[1;32m     37\u001b[0m   \u001b[0;32mif\u001b[0m \u001b[0mignore_result\u001b[0m\u001b[0;34m:\u001b[0m\u001b[0;34m\u001b[0m\u001b[0;34m\u001b[0m\u001b[0m\n\u001b[1;32m     38\u001b[0m     \u001b[0;32mreturn\u001b[0m\u001b[0;34m\u001b[0m\u001b[0;34m\u001b[0m\u001b[0m\n\u001b[0;32m---> 39\u001b[0;31m   \u001b[0;32mreturn\u001b[0m \u001b[0m_message\u001b[0m\u001b[0;34m.\u001b[0m\u001b[0mread_reply_from_input\u001b[0m\u001b[0;34m(\u001b[0m\u001b[0mrequest_id\u001b[0m\u001b[0;34m)\u001b[0m\u001b[0;34m\u001b[0m\u001b[0;34m\u001b[0m\u001b[0m\n\u001b[0m\u001b[1;32m     40\u001b[0m \u001b[0;34m\u001b[0m\u001b[0m\n\u001b[1;32m     41\u001b[0m \u001b[0;34m\u001b[0m\u001b[0m\n",
            "\u001b[0;32m/usr/local/lib/python3.6/dist-packages/google/colab/_message.py\u001b[0m in \u001b[0;36mread_reply_from_input\u001b[0;34m(message_id, timeout_sec)\u001b[0m\n\u001b[1;32m     99\u001b[0m     \u001b[0mreply\u001b[0m \u001b[0;34m=\u001b[0m \u001b[0m_read_next_input_message\u001b[0m\u001b[0;34m(\u001b[0m\u001b[0;34m)\u001b[0m\u001b[0;34m\u001b[0m\u001b[0;34m\u001b[0m\u001b[0m\n\u001b[1;32m    100\u001b[0m     \u001b[0;32mif\u001b[0m \u001b[0mreply\u001b[0m \u001b[0;34m==\u001b[0m \u001b[0m_NOT_READY\u001b[0m \u001b[0;32mor\u001b[0m \u001b[0;32mnot\u001b[0m \u001b[0misinstance\u001b[0m\u001b[0;34m(\u001b[0m\u001b[0mreply\u001b[0m\u001b[0;34m,\u001b[0m \u001b[0mdict\u001b[0m\u001b[0;34m)\u001b[0m\u001b[0;34m:\u001b[0m\u001b[0;34m\u001b[0m\u001b[0;34m\u001b[0m\u001b[0m\n\u001b[0;32m--> 101\u001b[0;31m       \u001b[0mtime\u001b[0m\u001b[0;34m.\u001b[0m\u001b[0msleep\u001b[0m\u001b[0;34m(\u001b[0m\u001b[0;36m0.025\u001b[0m\u001b[0;34m)\u001b[0m\u001b[0;34m\u001b[0m\u001b[0;34m\u001b[0m\u001b[0m\n\u001b[0m\u001b[1;32m    102\u001b[0m       \u001b[0;32mcontinue\u001b[0m\u001b[0;34m\u001b[0m\u001b[0;34m\u001b[0m\u001b[0m\n\u001b[1;32m    103\u001b[0m     if (reply.get('type') == 'colab_reply' and\n",
            "\u001b[0;31mKeyboardInterrupt\u001b[0m: "
          ]
        }
      ]
    },
    {
      "cell_type": "code",
      "metadata": {
        "id": "amNvBObf6SPA",
        "colab_type": "code",
        "colab": {}
      },
      "source": [
        "#ENTER PATH TO EMBEDDINGS FOLDER ON LINE 8!\n",
        "\n",
        "def get_coefs(word,*arr): \n",
        "    return word, np.asarray(arr, dtype='float32')  \n",
        "  \n",
        "def load_embedding(file):\n",
        "#     if file == '/content/drive/My Drive/CMPS 144/ResumAI/resources/quora-insincere-questions-classification/embeddings/wiki-news-300d-1M/wiki-news-300d-1M.vec':\n",
        "    if file == '.../embeddings/wiki-news-300d-1M/wiki-news-300d-1M.vec':\n",
        "        embeddings_index = dict(get_coefs(*o.split(\" \")) for o in open(file) if len(o)>100)\n",
        "    else:\n",
        "        embeddings_index = dict(get_coefs(*o.split(\" \")) for o in open(file, encoding='latin'))\n",
        "    return embeddings_index"
      ],
      "execution_count": 0,
      "outputs": []
    },
    {
      "cell_type": "code",
      "metadata": {
        "id": "3aennZQf6Vkw",
        "colab_type": "code",
        "colab": {}
      },
      "source": [
        "def make_embedding_matrix(embedding, tokenizer, len_voc):\n",
        "    all_embs = np.stack(embedding.values())\n",
        "    emb_mean,emb_std = all_embs.mean(), all_embs.std()\n",
        "    embed_size = all_embs.shape[1]\n",
        "    word_index = tokenizer.word_index\n",
        "    embedding_matrix = np.random.normal(emb_mean, emb_std, (len_voc, embed_size))\n",
        "    \n",
        "    for word, i in word_index.items():\n",
        "        if i >= len_voc:\n",
        "            continue\n",
        "        embedding_vector = embedding.get(word)\n",
        "        if embedding_vector is not None: \n",
        "            embedding_matrix[i] = embedding_vector\n",
        "    \n",
        "    return embedding_matrix"
      ],
      "execution_count": 0,
      "outputs": []
    },
    {
      "cell_type": "markdown",
      "metadata": {
        "id": "f6ac46qyQ43n",
        "colab_type": "text"
      },
      "source": [
        "##Enter the path to the project folder here too"
      ]
    },
    {
      "cell_type": "code",
      "metadata": {
        "id": "hrYNlhS-6ZsL",
        "colab_type": "code",
        "colab": {}
      },
      "source": [
        "# Uncomment the below to load your downloaded glove vectors into the embedding function\n",
        "# glove = load_embedding(uploaded)\n",
        "\n",
        "# Otherwise this is for the google drive authenticated version\n",
        "glove = load_embedding('.../embeddings/glove.840B.300d/glove.840B.300d.txt')\n",
        "# glove = load_embedding('/content/drive/My Drive/CMPS 144/ResumAI/resources/quora-insincere-questions-classification/embeddings/glove.840B.300d/glove.840B.300d.txt')"
      ],
      "execution_count": 0,
      "outputs": []
    },
    {
      "cell_type": "code",
      "metadata": {
        "id": "orLOf2PH6dCB",
        "colab_type": "code",
        "colab": {}
      },
      "source": [
        "# load data\n",
        "\n",
        "url = 'https://raw.githubusercontent.com/hsoJLeu/resumAI/master/data/resume_dataset.csv'              \n",
        "\n",
        "df = pd.read_csv(url)\n",
        "print(\"Number of texts: \", df.shape[0])"
      ],
      "execution_count": 0,
      "outputs": []
    },
    {
      "cell_type": "code",
      "metadata": {
        "id": "nc7H-jan6fnJ",
        "colab_type": "code",
        "colab": {}
      },
      "source": [
        "df.head()"
      ],
      "execution_count": 0,
      "outputs": []
    },
    {
      "cell_type": "code",
      "metadata": {
        "id": "fO2nFES06iUZ",
        "colab_type": "code",
        "colab": {}
      },
      "source": [
        "# Data cleaning\n",
        "\n",
        "from io import StringIO\n",
        "col = ['Category', 'Resume']\n",
        "df = df[col]\n",
        "df = df[pd.notnull(df['Resume'])]\n",
        "df.columns = ['Category', 'Resume']\n",
        "df['category_id'] = df['Category'].factorize()[0]\n",
        "# clean category -> category Id\n",
        "\n",
        "# #DROPPING ROW 132 because it messes things up\n",
        "# df.drop(df.index[132])\n",
        "\n",
        "category_id_df = df[['Category', 'category_id']].drop_duplicates().sort_values('category_id')\n",
        "category_to_id = dict(category_id_df.values)\n",
        "id_to_category = dict(category_id_df[['category_id', 'Category']].values)\n",
        "\n",
        "# Drop resumes if data contain b'' there are 12 of these in our dataset\n",
        "# Empty resumes in the dataset, one hot can't encode empty resumes\n",
        "\n",
        "df = df[df['Resume'].map(len) > 4]\n",
        "\n",
        "# Get a count for resumes in the dataframe so that we can fix overfitting issues\n",
        "df['count_resumes'] = df.groupby(['Category', 'category_id'])['category_id'].transform('count')\n",
        "  \n",
        "# To look at count of resumes per category  \n",
        "countDF = df[['Category', 'count_resumes']]\n",
        "#print(\"Number of resumes per category:\")\n",
        "countDF.drop_duplicates(subset='Category', keep=\"first\")\n",
        "\n",
        "df = df.reset_index(drop=True)"
      ],
      "execution_count": 0,
      "outputs": []
    },
    {
      "cell_type": "code",
      "metadata": {
        "id": "AYYztu0q6pFV",
        "colab_type": "code",
        "colab": {}
      },
      "source": [
        "len_voc = 100000"
      ],
      "execution_count": 0,
      "outputs": []
    },
    {
      "cell_type": "code",
      "metadata": {
        "id": "Rnkt5Rav6rmU",
        "colab_type": "code",
        "colab": {}
      },
      "source": [
        "def make_tokenizer(texts, len_voc):\n",
        "    from keras.preprocessing.text import Tokenizer\n",
        "    t = Tokenizer(num_words=len_voc, split=' ', char_level=False,)\n",
        "    t.fit_on_texts(texts)\n",
        "    return t"
      ],
      "execution_count": 0,
      "outputs": []
    },
    {
      "cell_type": "code",
      "metadata": {
        "id": "xxJ2XJrH647v",
        "colab_type": "code",
        "colab": {}
      },
      "source": [
        "tokenizer = make_tokenizer(df['Resume'], len_voc)"
      ],
      "execution_count": 0,
      "outputs": []
    },
    {
      "cell_type": "code",
      "metadata": {
        "id": "4MhVHiYf65pQ",
        "colab_type": "code",
        "colab": {}
      },
      "source": [
        "X = tokenizer.texts_to_sequences(df['Resume'])"
      ],
      "execution_count": 0,
      "outputs": []
    },
    {
      "cell_type": "code",
      "metadata": {
        "id": "owRn06Vk68F5",
        "colab_type": "code",
        "colab": {}
      },
      "source": [
        "from keras.preprocessing.sequence import pad_sequences\n",
        "X = pad_sequences(X, 70)"
      ],
      "execution_count": 0,
      "outputs": []
    },
    {
      "cell_type": "code",
      "metadata": {
        "id": "KhjbkNRy6-aw",
        "colab_type": "code",
        "colab": {}
      },
      "source": [
        "index_word = {0: ''}\n",
        "for word in tokenizer.word_index.keys():\n",
        "    index_word[tokenizer.word_index[word]] = word"
      ],
      "execution_count": 0,
      "outputs": []
    },
    {
      "cell_type": "code",
      "metadata": {
        "id": "3YdcuXIF7AvI",
        "colab_type": "code",
        "colab": {}
      },
      "source": [
        "embed_mat = make_embedding_matrix(glove, tokenizer, len_voc)"
      ],
      "execution_count": 0,
      "outputs": []
    },
    {
      "cell_type": "markdown",
      "metadata": {
        "id": "owU38g_TRUp7",
        "colab_type": "text"
      },
      "source": [
        "## Compute 5 synonyms for the 20000 most frequent words."
      ]
    },
    {
      "cell_type": "code",
      "metadata": {
        "id": "fFQgZpov7DER",
        "colab_type": "code",
        "colab": {}
      },
      "source": [
        "from sklearn.neighbors import NearestNeighbors\n",
        "\n",
        "synonyms_number = 5\n",
        "word_number = 20000"
      ],
      "execution_count": 0,
      "outputs": []
    },
    {
      "cell_type": "code",
      "metadata": {
        "id": "oq-AHCA47Khz",
        "colab_type": "code",
        "colab": {}
      },
      "source": [
        "nn = NearestNeighbors(n_neighbors=synonyms_number+1).fit(embed_mat) "
      ],
      "execution_count": 0,
      "outputs": []
    },
    {
      "cell_type": "code",
      "metadata": {
        "id": "zmRmQxjs7dI_",
        "colab_type": "code",
        "colab": {}
      },
      "source": [
        "neighbours_mat = nn.kneighbors(embed_mat[1:word_number])[1]"
      ],
      "execution_count": 0,
      "outputs": []
    },
    {
      "cell_type": "code",
      "metadata": {
        "id": "P7ldxZh-7pN9",
        "colab_type": "code",
        "colab": {}
      },
      "source": [
        "synonyms = {x[0]: x[1:] for x in neighbours_mat}"
      ],
      "execution_count": 0,
      "outputs": []
    },
    {
      "cell_type": "code",
      "metadata": {
        "id": "cQiKrV1Y7zzx",
        "colab_type": "code",
        "colab": {}
      },
      "source": [
        "for x in np.random.randint(1, word_number, 20):\n",
        "    print(f\"{index_word[x]} : {[index_word[synonyms[x][i]] for i in range(synonyms_number-1)]}\")"
      ],
      "execution_count": 0,
      "outputs": []
    },
    {
      "cell_type": "code",
      "metadata": {
        "id": "lF7ycd7I8G5c",
        "colab_type": "code",
        "colab": {}
      },
      "source": [
        "# X_pos = X[y==1]\n",
        "\n",
        "resume_list = df['Resume']            # get resume list\n",
        "category_list = df['Category']        # get category list\n",
        "category_id_list = df['category_id']  # get category id list\n",
        "\n",
        "#split into train and test\n",
        "train=df.sample(frac=0.8,random_state=200)\n",
        "test=df.drop(train.index)\n",
        "\n",
        "train_resume_list = train['Resume']            # train resume list\n",
        "train_category_list = train['Category']        # train category list\n",
        "train_category_id_list = train['category_id']  # train category id list\n",
        "\n",
        "test_resume_list = test['Resume']            # test resume list\n",
        "test_category_list = test['Category']        # test category list\n",
        "test_category_id_list = test['category_id']  # test category id list\n",
        "\n",
        "print(len(train))\n",
        "test_resume_list.head()"
      ],
      "execution_count": 0,
      "outputs": []
    },
    {
      "cell_type": "code",
      "metadata": {
        "id": "YzMfm2yf8L4o",
        "colab_type": "code",
        "colab": {}
      },
      "source": [
        "# This part applies regex and cleans data in resume field \n",
        "\n",
        "nltk.download('stopwords')\n",
        "import re\n",
        "\n",
        "wpt = nltk.WordPunctTokenizer()\n",
        "stop_words = nltk.corpus.stopwords.words('english')\n",
        "\n",
        "def normalize_document(doc):\n",
        "    # lower case and remove special characters\\whitespaces\n",
        "    doc = re.sub(r'[^a-zA-Z\\s]', '', doc, re.I|re.A)\n",
        "    # Get rid of the unicodes starting with \\\n",
        "    doc = re.sub(r'[^\\x00-\\xff]',r'', doc) \n",
        "    doc = doc.lower()\n",
        "    doc = doc.strip()\n",
        "    # tokenize document\n",
        "    tokens = wpt.tokenize(doc)\n",
        "    # filter stopwords out of document\n",
        "    filtered_tokens = [token for token in tokens if token not in stop_words]\n",
        "    # re-create document from filtered tokens\n",
        "    doc = ' '.join(filtered_tokens)\n",
        "    return doc\n",
        "\n",
        "normalize_corpus = np.vectorize(normalize_document)\n",
        "norm_corpus = normalize_corpus(resume_list)\n",
        "#norm_corpus # this is a numpy array & cleaned out data\n",
        "\n",
        "# test\n",
        "resume_list = norm_corpus\n",
        "#resume_list\n",
        "\n",
        "train_norm_corpus = normalize_corpus(train_resume_list)\n",
        "#train_norm_corpus \n",
        "train_resume_list = train_norm_corpus \n",
        "#train_norm_corpus\n",
        "\n",
        "test_norm_corpus = normalize_corpus(test_resume_list)\n",
        "#test_norm_corpus \n",
        "test_resume_list = test_norm_corpus \n",
        "#test_norm_corpus"
      ],
      "execution_count": 0,
      "outputs": []
    },
    {
      "cell_type": "code",
      "metadata": {
        "id": "uGVggY2o8PRb",
        "colab_type": "code",
        "colab": {}
      },
      "source": [
        "def modify_sentence(sentence, synonyms, p=0.5):\n",
        "    for i in range(len(sentence)):\n",
        "#         if np.random.random() > p:\n",
        "            try:\n",
        "                syns = synonyms[sentence[i]]\n",
        "                sentence[i] = np.random.choice(syns)\n",
        "            except KeyError:\n",
        "                pass\n",
        "    return sentence"
      ],
      "execution_count": 0,
      "outputs": []
    },
    {
      "cell_type": "code",
      "metadata": {
        "id": "ogHIi15b8SSs",
        "colab_type": "code",
        "colab": {}
      },
      "source": [
        "import nltk\n",
        "nltk.download('punkt')\n",
        "from nltk import sent_tokenize\n",
        "import json\n",
        "import random\n",
        "import sys\n",
        "import time\n",
        "\n",
        "def tokenize(resume):\n",
        "    '''text: list of resumes'''\n",
        "    tokenized =  word_tokenize(resume)\n",
        "    return tokenized\n",
        "\t\t\n",
        "def shuffle_tokenized(resume):\n",
        "    random.shuffle(resume)\n",
        "    newl=list(resume)\n",
        "    shuffled.append(newl)\n",
        "    return resume\n",
        "  \n",
        "# x = 1\n",
        "# tok = np.random.randint(1, word_number, 20)\n",
        "# print(len(tok))\n",
        "# print(tok)\n",
        "# # print(train_resume_list[x])\n",
        "# modified = modify_sentence(tok, synonyms)\n",
        "# resume_m = ' '.join(modified)\n",
        "# print(resume_m)\n",
        "\n",
        "for x in range(20):\n",
        "    sample =  np.random.randint(1, word_number, 20)\n",
        "#     tok = tokenize(train_resume_list[x])\n",
        "#     tok = tokenize(np.random.randint)\n",
        "    \n",
        "    for i in range(20):\n",
        "        \n",
        "    \n",
        "#     sample = resume_list[x]\n",
        "        sentence = ' '.join([index_word[i] for i in sample])\n",
        "        print(sentence)\n",
        "\n",
        "        modified = modify_sentence(sample, synonyms)\n",
        "        sentence_m = ' '.join([index_word[i] for i in modified])\n",
        "        print(sentence_m)\n",
        "    \n",
        "    print(' ')"
      ],
      "execution_count": 0,
      "outputs": []
    },
    {
      "cell_type": "code",
      "metadata": {
        "id": "fqXPrvFy88de",
        "colab_type": "code",
        "colab": {}
      },
      "source": [
        ""
      ],
      "execution_count": 0,
      "outputs": []
    }
  ]
}